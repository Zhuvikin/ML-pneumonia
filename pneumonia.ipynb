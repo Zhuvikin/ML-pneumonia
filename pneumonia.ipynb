{
 "cells": [
  {
   "cell_type": "code",
   "execution_count": 1,
   "metadata": {},
   "outputs": [
    {
     "name": "stderr",
     "output_type": "stream",
     "text": [
      "Using TensorFlow backend.\n"
     ]
    }
   ],
   "source": [
    "import os\n",
    "import random\n",
    "import numpy as np\n",
    "import tensorflow as tf\n",
    "from keras import backend as K\n",
    "import cv2\n",
    "import glob\n",
    "import pandas as pd\n",
    "from matplotlib import pyplot as plt\n",
    "from math import ceil, floor\n",
    "from tqdm import tqdm, tqdm_notebook\n",
    "from skimage import morphology\n",
    "from keras.utils.data_utils import get_file\n",
    "from keras.models import load_model\n",
    "from keras.preprocessing.image import ImageDataGenerator\n",
    "from imblearn.under_sampling import RandomUnderSampler\n",
    "from sklearn.model_selection import train_test_split\n",
    "\n",
    "from keras.optimizers import Adam, SGD, RMSprop\n",
    "from keras.models import Sequential, Input, Model\n",
    "from keras.layers import Conv2D, MaxPooling2D, MaxPooling1D, GlobalAveragePooling2D, ZeroPadding2D, Dense, Dropout, \\\n",
    "    Flatten, Input, LSTM, TimeDistributed\n",
    "from keras.layers.normalization import BatchNormalization\n",
    "from sklearn.metrics import recall_score, roc_auc_score, f1_score, roc_curve, classification_report"
   ]
  },
  {
   "cell_type": "code",
   "execution_count": 2,
   "metadata": {},
   "outputs": [],
   "source": [
    "base_data_dir = '../data/chest_xray/'\n",
    "\n",
    "data_dir = base_data_dir + 'prepared/'\n",
    "normal_dir = data_dir + 'normal/'\n",
    "pneumonia_dir = data_dir + 'pneumonia/'\n",
    "bacteria_dir = pneumonia_dir + 'bacteria/'\n",
    "virus_dir = pneumonia_dir + 'virus/'\n",
    "models_dir = './models/'\n",
    "\n",
    "for directory in [normal_dir, bacteria_dir, virus_dir, models_dir]:\n",
    "    if not os.path.exists(directory):\n",
    "        os.makedirs(directory)"
   ]
  },
  {
   "cell_type": "code",
   "execution_count": 3,
   "metadata": {
    "scrolled": false
   },
   "outputs": [],
   "source": [
    "bddl = len(base_data_dir)\n",
    "\n",
    "file_names_normal = [path[bddl:] for path in glob.glob(base_data_dir + 'train/NORMAL/*.jpeg')] + [path[bddl:] for path\n",
    "                                                                                                  in glob.glob(\n",
    "        '../data/chest_xray/test/NORMAL/*.jpeg')] + [path[bddl:] for path in\n",
    "                                                     glob.glob('../data/chest_xray/val/NORMAL/*.jpeg')]\n",
    "file_names_pneumonia = [path[bddl:] for path in glob.glob(base_data_dir + 'train/PNEUMONIA/*.jpeg')] + [path[bddl:] for\n",
    "                                                                                                        path in\n",
    "                                                                                                        glob.glob(\n",
    "                                                                                                            '../data/chest_xray/test/PNEUMONIA/*.jpeg')] + [\n",
    "                           path[bddl:] for path in glob.glob('../data/chest_xray/val/PNEUMONIA/*.jpeg')]"
   ]
  },
  {
   "cell_type": "code",
   "execution_count": 4,
   "metadata": {},
   "outputs": [],
   "source": [
    "normal_patterns = [\n",
    "    base_data_dir + 'train/NORMAL/*.jpeg',\n",
    "    base_data_dir + 'test/NORMAL/*.jpeg',\n",
    "    base_data_dir + 'val/NORMAL/*.jpeg'\n",
    "]\n",
    "\n",
    "bacteria_patterns = [\n",
    "    base_data_dir + 'train/PNEUMONIA/*bacteria*.jpeg',\n",
    "    base_data_dir + 'test/PNEUMONIA/*bacteria*.jpeg',\n",
    "    base_data_dir + 'val/PNEUMONIA/*bacteria*.jpeg'\n",
    "]\n",
    "\n",
    "virus_patterns = [\n",
    "    base_data_dir + 'train/PNEUMONIA/*virus*.jpeg',\n",
    "    base_data_dir + 'test/PNEUMONIA/*virus*.jpeg',\n",
    "    base_data_dir + 'val/PNEUMONIA/*virus*.jpeg'\n",
    "]\n",
    "\n",
    "raw_normal = [item for sublist in [glob.glob(path) for path in normal_patterns] for item in sublist]\n",
    "raw_bacteria = [item for sublist in [glob.glob(path) for path in bacteria_patterns] for item in sublist]\n",
    "raw_virus = [item for sublist in [glob.glob(path) for path in virus_patterns] for item in sublist]"
   ]
  },
  {
   "cell_type": "code",
   "execution_count": 5,
   "metadata": {},
   "outputs": [
    {
     "data": {
      "text/plain": [
       "'./models/lung/lung_segmentation.hdf5'"
      ]
     },
     "execution_count": 5,
     "metadata": {},
     "output_type": "execute_result"
    }
   ],
   "source": [
    "get_file('lung_segmentation.hdf5',\n",
    "         'https://raw.githubusercontent.com/imlab-uiip/lung-segmentation-2d/master/trained_model.hdf5',\n",
    "         cache_dir = models_dir, cache_subdir = 'lung')"
   ]
  },
  {
   "cell_type": "code",
   "execution_count": 6,
   "metadata": {},
   "outputs": [
    {
     "name": "stdout",
     "output_type": "stream",
     "text": [
      "WARNING:tensorflow:From /Users/zhuvikin/anaconda3/envs/AIU_ML/lib/python3.7/site-packages/tensorflow/python/framework/op_def_library.py:263: colocate_with (from tensorflow.python.framework.ops) is deprecated and will be removed in a future version.\n",
      "Instructions for updating:\n",
      "Colocations handled automatically by placer.\n",
      "WARNING:tensorflow:From /Users/zhuvikin/anaconda3/envs/AIU_ML/lib/python3.7/site-packages/tensorflow/python/ops/math_ops.py:3066: to_int32 (from tensorflow.python.ops.math_ops) is deprecated and will be removed in a future version.\n",
      "Instructions for updating:\n",
      "Use tf.cast instead.\n"
     ]
    },
    {
     "name": "stderr",
     "output_type": "stream",
     "text": [
      "/Users/zhuvikin/anaconda3/envs/AIU_ML/lib/python3.7/site-packages/keras/engine/saving.py:327: UserWarning: Error in loading the saved optimizer state. As a result, your model is starting with a freshly initialized optimizer.\n",
      "  warnings.warn('Error in loading the saved optimizer '\n"
     ]
    }
   ],
   "source": [
    "model_name = models_dir + 'lung/lung_segmentation.hdf5'\n",
    "UNet = load_model(model_name)"
   ]
  },
  {
   "cell_type": "code",
   "execution_count": 7,
   "metadata": {},
   "outputs": [],
   "source": [
    "def adjust_gamma(image, gamma = 1.0):\n",
    "    invGamma = 1.0 / gamma\n",
    "    table = np.array([\n",
    "        ((i / 255.0) ** invGamma) * 255\n",
    "        for i in np.arange(0, 256)])\n",
    "    return cv2.LUT(image.astype(np.uint8), table.astype(np.uint8))\n",
    "\n",
    "\n",
    "def adjust_contrast(image, contrast = 0):\n",
    "    buf = image.copy()\n",
    "    if contrast != 0:\n",
    "        f = 131 * (contrast + 127) / (127 * (131 - contrast))\n",
    "        alpha_c = f\n",
    "        gamma_c = 127 * (1 - f)\n",
    "        buf = cv2.addWeighted(buf, alpha_c, buf, 0, gamma_c)\n",
    "    return buf\n",
    "\n",
    "\n",
    "def normalize_image(original, target_width = 256):\n",
    "    im_shape = (256, 256)\n",
    "    original_width = original.shape[1]\n",
    "    original_height = original.shape[0]\n",
    "\n",
    "    width_coeff = 256 / original_width\n",
    "    height_coeff = 256 / original_height\n",
    "\n",
    "    img = cv2.resize(original, im_shape, interpolation = cv2.INTER_AREA)\n",
    "    img = cv2.equalizeHist(img)\n",
    "    img = adjust_gamma(img, 0.75)\n",
    "    img = img * 1.2\n",
    "    img = np.clip(img, 0, 255)\n",
    "\n",
    "    img2 = img.astype(float)\n",
    "    img2 -= img2.mean()\n",
    "    img2 /= img2.std()\n",
    "\n",
    "    img2 = np.expand_dims(img2, -1)\n",
    "    inp_shape = img2.shape\n",
    "    pred = UNet.predict([[img2]])[..., 0].reshape(inp_shape[:2])\n",
    "    pr = pred > 0.5\n",
    "    pr = remove_small_regions(pr, 0.01 * np.prod(im_shape))\n",
    "    pr = pr.astype(int)\n",
    "\n",
    "    non_empty_columns = np.where(pr.max(axis = 0) > 0)[0]\n",
    "    non_empty_rows = np.where(pr.max(axis = 1) > 0)[0]\n",
    "    left = min(non_empty_columns) if len(non_empty_columns) > 0 else 0\n",
    "    right = max(non_empty_columns) if len(non_empty_columns) > 0 else 256\n",
    "    top = min(non_empty_rows) if len(non_empty_rows) > 0 else 0\n",
    "    bottom = max(non_empty_rows) if len(non_empty_rows) > 0 else 256\n",
    "\n",
    "    if right < 256 / 1.9:\n",
    "        right = 256 - left\n",
    "\n",
    "    if left > 256 / 2.1:\n",
    "        left = 256 - right\n",
    "\n",
    "    l = floor(left / width_coeff)\n",
    "    t = floor(top / height_coeff)\n",
    "    w = floor((right - left) / width_coeff)\n",
    "    h = floor((bottom - top) / height_coeff)\n",
    "\n",
    "    cropped = original[t:t + h, l:l + w]\n",
    "    resized = cv2.resize(cropped, (target_width, target_width), interpolation = cv2.INTER_AREA)\n",
    "    equalized = cv2.equalizeHist(resized)\n",
    "    return equalized\n",
    "\n",
    "\n",
    "def remove_small_regions(img, size):\n",
    "    \"\"\"Morphologically removes small (less than size) connected regions of 0s or 1s.\"\"\"\n",
    "    img = morphology.remove_small_objects(img, size)\n",
    "    img = morphology.remove_small_holes(img, size)\n",
    "    return img"
   ]
  },
  {
   "cell_type": "code",
   "execution_count": 8,
   "metadata": {
    "lines_to_next_cell": 0
   },
   "outputs": [
    {
     "data": {
      "application/vnd.jupyter.widget-view+json": {
       "model_id": "6618fda1c8da4b0baf11e5def1381f63",
       "version_major": 2,
       "version_minor": 0
      },
      "text/plain": [
       "HBox(children=(IntProgress(value=0, max=1583), HTML(value='')))"
      ]
     },
     "metadata": {},
     "output_type": "display_data"
    },
    {
     "name": "stdout",
     "output_type": "stream",
     "text": [
      "\n"
     ]
    },
    {
     "data": {
      "application/vnd.jupyter.widget-view+json": {
       "model_id": "3818cd7bb07f435b957b620cf58d49d7",
       "version_major": 2,
       "version_minor": 0
      },
      "text/plain": [
       "HBox(children=(IntProgress(value=0, max=4273), HTML(value='')))"
      ]
     },
     "metadata": {},
     "output_type": "display_data"
    },
    {
     "name": "stdout",
     "output_type": "stream",
     "text": [
      "\n"
     ]
    }
   ],
   "source": [
    "image_width = 256\n",
    "\n",
    "i = 0\n",
    "for path in tqdm_notebook(file_names_normal):\n",
    "    output_path = normal_dir + '{0:04d}.jpeg'.format(i)\n",
    "    if not os.path.exists(output_path):\n",
    "        img = cv2.imread(base_data_dir + path, 0)\n",
    "        normalized = normalize_image(img, image_width)\n",
    "        cv2.imwrite(output_path, normalized)\n",
    "    i += 1\n",
    "\n",
    "i = 0\n",
    "for path in tqdm_notebook(file_names_pneumonia):\n",
    "    if 'bacteria' in path:\n",
    "        output_path = bacteria_dir + '{0:04d}.jpeg'.format(i)\n",
    "    else:\n",
    "        output_path = virus_dir + '{0:04d}.jpeg'.format(i)\n",
    "    if not os.path.exists(output_path):\n",
    "        img = cv2.imread(base_data_dir + path, 0)\n",
    "        normalized = normalize_image(img, image_width)\n",
    "        cv2.imwrite(output_path, normalized)\n",
    "    i += 1"
   ]
  },
  {
   "cell_type": "code",
   "execution_count": 9,
   "metadata": {
    "lines_to_next_cell": 2
   },
   "outputs": [],
   "source": [
    "normal_df = pd.DataFrame(\n",
    "    {'path': glob.glob(normal_dir + '*.jpeg'), 'normal': 1, 'bacteria': 0, 'virus': 0, 'target': 'Normal'})\n",
    "bacteria_df = pd.DataFrame(\n",
    "    {'path': glob.glob(bacteria_dir + '*.jpeg'), 'normal': 0, 'bacteria': 1, 'virus': 0, 'target': 'Pneumonia'})\n",
    "virus_df = pd.DataFrame(\n",
    "    {'path': glob.glob(virus_dir + '*.jpeg'), 'normal': 0, 'bacteria': 0, 'virus': 1, 'target': 'Pneumonia'})\n",
    "\n",
    "# normal_df = pd.DataFrame(\n",
    "#     {'path': raw_normal, 'normal': 1, 'bacteria': 0, 'virus': 0, 'target': 'Normal'})\n",
    "# bacteria_df = pd.DataFrame(\n",
    "#     {'path': raw_bacteria, 'normal': 0, 'bacteria': 1, 'virus': 0, 'target': 'Pneumonia'})\n",
    "# virus_df = pd.DataFrame(\n",
    "#     {'path': raw_virus, 'normal': 0, 'bacteria': 0, 'virus': 1, 'target': 'Pneumonia'})\n",
    "\n",
    "dataset = pd.concat([normal_df, bacteria_df, virus_df])\n",
    "dataset = dataset.sort_values('path')\n",
    "dataset = dataset.sample(frac = 1, random_state = 0).reset_index(drop = True)"
   ]
  },
  {
   "cell_type": "code",
   "execution_count": 10,
   "metadata": {},
   "outputs": [
    {
     "data": {
      "text/html": [
       "<div>\n",
       "<style scoped>\n",
       "    .dataframe tbody tr th:only-of-type {\n",
       "        vertical-align: middle;\n",
       "    }\n",
       "\n",
       "    .dataframe tbody tr th {\n",
       "        vertical-align: top;\n",
       "    }\n",
       "\n",
       "    .dataframe thead th {\n",
       "        text-align: right;\n",
       "    }\n",
       "</style>\n",
       "<table border=\"1\" class=\"dataframe\">\n",
       "  <thead>\n",
       "    <tr style=\"text-align: right;\">\n",
       "      <th></th>\n",
       "      <th>path</th>\n",
       "      <th>normal</th>\n",
       "      <th>bacteria</th>\n",
       "      <th>virus</th>\n",
       "      <th>target</th>\n",
       "    </tr>\n",
       "  </thead>\n",
       "  <tbody>\n",
       "    <tr>\n",
       "      <th>0</th>\n",
       "      <td>../data/chest_xray/prepared/pneumonia/bacteria/3734.jpeg</td>\n",
       "      <td>0</td>\n",
       "      <td>1</td>\n",
       "      <td>0</td>\n",
       "      <td>Pneumonia</td>\n",
       "    </tr>\n",
       "    <tr>\n",
       "      <th>1</th>\n",
       "      <td>../data/chest_xray/prepared/pneumonia/bacteria/0326.jpeg</td>\n",
       "      <td>0</td>\n",
       "      <td>1</td>\n",
       "      <td>0</td>\n",
       "      <td>Pneumonia</td>\n",
       "    </tr>\n",
       "    <tr>\n",
       "      <th>2</th>\n",
       "      <td>../data/chest_xray/prepared/normal/0608.jpeg</td>\n",
       "      <td>1</td>\n",
       "      <td>0</td>\n",
       "      <td>0</td>\n",
       "      <td>Normal</td>\n",
       "    </tr>\n",
       "    <tr>\n",
       "      <th>3</th>\n",
       "      <td>../data/chest_xray/prepared/pneumonia/virus/3985.jpeg</td>\n",
       "      <td>0</td>\n",
       "      <td>0</td>\n",
       "      <td>1</td>\n",
       "      <td>Pneumonia</td>\n",
       "    </tr>\n",
       "    <tr>\n",
       "      <th>4</th>\n",
       "      <td>../data/chest_xray/prepared/pneumonia/virus/3986.jpeg</td>\n",
       "      <td>0</td>\n",
       "      <td>0</td>\n",
       "      <td>1</td>\n",
       "      <td>Pneumonia</td>\n",
       "    </tr>\n",
       "    <tr>\n",
       "      <th>5</th>\n",
       "      <td>../data/chest_xray/prepared/pneumonia/bacteria/3013.jpeg</td>\n",
       "      <td>0</td>\n",
       "      <td>1</td>\n",
       "      <td>0</td>\n",
       "      <td>Pneumonia</td>\n",
       "    </tr>\n",
       "    <tr>\n",
       "      <th>6</th>\n",
       "      <td>../data/chest_xray/prepared/normal/1045.jpeg</td>\n",
       "      <td>1</td>\n",
       "      <td>0</td>\n",
       "      <td>0</td>\n",
       "      <td>Normal</td>\n",
       "    </tr>\n",
       "    <tr>\n",
       "      <th>7</th>\n",
       "      <td>../data/chest_xray/prepared/pneumonia/virus/3039.jpeg</td>\n",
       "      <td>0</td>\n",
       "      <td>0</td>\n",
       "      <td>1</td>\n",
       "      <td>Pneumonia</td>\n",
       "    </tr>\n",
       "    <tr>\n",
       "      <th>8</th>\n",
       "      <td>../data/chest_xray/prepared/normal/0642.jpeg</td>\n",
       "      <td>1</td>\n",
       "      <td>0</td>\n",
       "      <td>0</td>\n",
       "      <td>Normal</td>\n",
       "    </tr>\n",
       "    <tr>\n",
       "      <th>9</th>\n",
       "      <td>../data/chest_xray/prepared/pneumonia/bacteria/1548.jpeg</td>\n",
       "      <td>0</td>\n",
       "      <td>1</td>\n",
       "      <td>0</td>\n",
       "      <td>Pneumonia</td>\n",
       "    </tr>\n",
       "  </tbody>\n",
       "</table>\n",
       "</div>"
      ],
      "text/plain": [
       "                                                       path  normal  bacteria  \\\n",
       "0  ../data/chest_xray/prepared/pneumonia/bacteria/3734.jpeg       0         1   \n",
       "1  ../data/chest_xray/prepared/pneumonia/bacteria/0326.jpeg       0         1   \n",
       "2              ../data/chest_xray/prepared/normal/0608.jpeg       1         0   \n",
       "3     ../data/chest_xray/prepared/pneumonia/virus/3985.jpeg       0         0   \n",
       "4     ../data/chest_xray/prepared/pneumonia/virus/3986.jpeg       0         0   \n",
       "5  ../data/chest_xray/prepared/pneumonia/bacteria/3013.jpeg       0         1   \n",
       "6              ../data/chest_xray/prepared/normal/1045.jpeg       1         0   \n",
       "7     ../data/chest_xray/prepared/pneumonia/virus/3039.jpeg       0         0   \n",
       "8              ../data/chest_xray/prepared/normal/0642.jpeg       1         0   \n",
       "9  ../data/chest_xray/prepared/pneumonia/bacteria/1548.jpeg       0         1   \n",
       "\n",
       "   virus     target  \n",
       "0      0  Pneumonia  \n",
       "1      0  Pneumonia  \n",
       "2      0     Normal  \n",
       "3      1  Pneumonia  \n",
       "4      1  Pneumonia  \n",
       "5      0  Pneumonia  \n",
       "6      0     Normal  \n",
       "7      1  Pneumonia  \n",
       "8      0     Normal  \n",
       "9      0  Pneumonia  "
      ]
     },
     "execution_count": 10,
     "metadata": {},
     "output_type": "execute_result"
    }
   ],
   "source": [
    "pd.set_option('max_colwidth', 100)\n",
    "dataset.head(10)"
   ]
  },
  {
   "cell_type": "code",
   "execution_count": 11,
   "metadata": {},
   "outputs": [
    {
     "data": {
      "image/png": "[encoded data removed]",
      "text/plain": [
       "<Figure size 432x288 with 1 Axes>"
      ]
     },
     "metadata": {},
     "output_type": "display_data"
    }
   ],
   "source": [
    "colors = ['#D4FCEF', '#FDAFD7', '#FECBE5']\n",
    "\n",
    "\n",
    "def labels(normal_amount, bacteria_amount, virus_amount): return \\\n",
    "    'Normal ({0:d})'.format(normal_amount), \\\n",
    "    'Bacteria ({0:d})'.format(bacteria_amount), \\\n",
    "    'Virus ({0:d})'.format(virus_amount)\n",
    "\n",
    "\n",
    "def sizes(normal_amount, bacteria_amount, virus_amount):\n",
    "    total = normal_amount + bacteria_amount + virus_amount\n",
    "    return [normal_amount / total, bacteria_amount / total, virus_amount / total]\n",
    "\n",
    "\n",
    "fig1, ax1 = plt.subplots()\n",
    "ax1.pie(sizes(normal_df.shape[0], bacteria_df.shape[0], virus_df.shape[0]),\n",
    "        explode = (0.1, 0, 0), labels = labels(normal_df.shape[0], bacteria_df.shape[0], virus_df.shape[0]),\n",
    "        autopct = '%1.1f%%', startangle = 90, colors = colors)\n",
    "ax1.axis('equal')\n",
    "ax1.title.set_text('Data Set')\n",
    "plt.show()"
   ]
  },
  {
   "cell_type": "code",
   "execution_count": 12,
   "metadata": {},
   "outputs": [
    {
     "data": {
      "image/png": "[encoded data removed]",
      "text/plain": [
       "<Figure size 1224x288 with 3 Axes>"
      ]
     },
     "metadata": {},
     "output_type": "display_data"
    }
   ],
   "source": [
    "test_size = 0.2\n",
    "validation_size = 0.02\n",
    "\n",
    "sampler = RandomUnderSampler(random_state = 0)\n",
    "X_balanced, _ = sampler.fit_resample(dataset[['path']].values, dataset[['target']].values)\n",
    "\n",
    "balanced_dataset = pd.DataFrame({'path': X_balanced[:, 0]})\n",
    "balanced_dataset = balanced_dataset.sample(frac = 1, random_state = 0).reset_index(drop = True)\n",
    "balanced_dataset = pd.merge(balanced_dataset, dataset, on = 'path')\n",
    "rest_dataset = pd.DataFrame(\n",
    "    {'path': list(set(X_balanced[:, 0].tolist()).symmetric_difference(dataset[['path']].values[:, 0].tolist()))})\n",
    "rest_dataset = rest_dataset.sample(frac = 1, random_state = 0).reset_index(drop = True)\n",
    "rest_dataset = pd.merge(rest_dataset, dataset, on = 'path')\n",
    "\n",
    "X_train_validation, X_test, y_train_validation, _ = train_test_split(\n",
    "    balanced_dataset.path.values, balanced_dataset.target.values,\n",
    "    test_size = test_size, random_state = 0)\n",
    "X_train, X_validation, _, _ = train_test_split(\n",
    "    X_train_validation, y_train_validation,\n",
    "    test_size = validation_size, random_state = 3)\n",
    "\n",
    "train_dataset = pd.merge(pd.DataFrame({'path': X_train}), dataset, on = 'path')\n",
    "validation_dataset = pd.merge(pd.DataFrame({'path': X_validation}), dataset, on = 'path')\n",
    "test_dataset = pd.concat([pd.merge(pd.DataFrame({'path': X_test}), dataset, on = 'path'), rest_dataset])\n",
    "\n",
    "fig = plt.figure(figsize = (17, 4))\n",
    "ax1 = fig.add_subplot(131)\n",
    "ax1.pie(sizes(train_dataset.sum()[1], train_dataset.sum()[2], train_dataset.sum()[3]),\n",
    "        explode = (0.1, 0, 0), labels = labels(train_dataset.sum()[1], train_dataset.sum()[2], train_dataset.sum()[3]),\n",
    "        autopct = '%1.1f%%', startangle = 90, colors = colors)\n",
    "ax1.axis('equal')\n",
    "ax1.title.set_text('Train Set')\n",
    "\n",
    "ax3 = fig.add_subplot(132)\n",
    "ax3.pie(sizes(validation_dataset.sum()[1], validation_dataset.sum()[2], validation_dataset.sum()[3]),\n",
    "        explode = (0.1, 0, 0),\n",
    "        labels = labels(validation_dataset.sum()[1], validation_dataset.sum()[2], validation_dataset.sum()[3]),\n",
    "        autopct = '%1.1f%%', startangle = 90, colors = colors)\n",
    "ax3.axis('equal')\n",
    "ax3.title.set_text('Validation Set')\n",
    "\n",
    "ax2 = fig.add_subplot(133)\n",
    "ax2.pie(sizes(test_dataset.sum()[1], test_dataset.sum()[2], test_dataset.sum()[3]),\n",
    "        explode = (0.1, 0, 0), labels = labels(test_dataset.sum()[1], test_dataset.sum()[2], test_dataset.sum()[3]),\n",
    "        autopct = '%1.1f%%', startangle = 90, colors = colors)\n",
    "ax2.axis('equal')\n",
    "ax2.title.set_text('Test Set')\n",
    "\n",
    "plt.show()"
   ]
  },
  {
   "cell_type": "code",
   "execution_count": 13,
   "metadata": {},
   "outputs": [
    {
     "name": "stdout",
     "output_type": "stream",
     "text": [
      "Train generator:\n",
      "Found 2481 validated image filenames belonging to 2 classes.\n",
      "\n",
      "Validation generator:\n",
      "Found 51 validated image filenames belonging to 2 classes.\n",
      "\n",
      "Test generator:\n",
      "Found 3324 validated image filenames belonging to 2 classes.\n"
     ]
    }
   ],
   "source": [
    "imageGenerator = ImageDataGenerator(rescale = 1. / 255, horizontal_flip = True)\n",
    "testGenerator = ImageDataGenerator(rescale = 1. / 255)\n",
    "\n",
    "batch_size = 4\n",
    "x_col = 'path'\n",
    "y_col = 'target'\n",
    "classes = ['Normal', 'Pneumonia']\n",
    "mode = 'grayscale'\n",
    "target_size = (150, 150)\n",
    "\n",
    "print('Train generator:')\n",
    "train_generator = imageGenerator.flow_from_dataframe(train_dataset, x_col = x_col, y_col = y_col,\n",
    "                                                     seed = 0, target_size = target_size, batch_size = batch_size,\n",
    "                                                     class_mode = 'binary', color_mode = mode)\n",
    "\n",
    "print('\\nValidation generator:')\n",
    "validation_generator = testGenerator.flow_from_dataframe(validation_dataset, x_col = x_col, y_col = y_col,\n",
    "                                                         seed = 0, target_size = target_size, batch_size = batch_size,\n",
    "                                                         class_mode = 'binary', color_mode = mode, shuffle = False)\n",
    "\n",
    "print('\\nTest generator:')\n",
    "test_generator = testGenerator.flow_from_dataframe(test_dataset, x_col = x_col, y_col = y_col,\n",
    "                                                   seed = 0, target_size = target_size, batch_size = 1,\n",
    "                                                   class_mode = 'binary', color_mode = mode, shuffle = False)"
   ]
  },
  {
   "cell_type": "code",
   "execution_count": 14,
   "metadata": {},
   "outputs": [
    {
     "name": "stdout",
     "output_type": "stream",
     "text": [
      "WARNING:tensorflow:From /Users/zhuvikin/anaconda3/envs/AIU_ML/lib/python3.7/site-packages/keras/backend/tensorflow_backend.py:3445: calling dropout (from tensorflow.python.ops.nn_ops) with keep_prob is deprecated and will be removed in a future version.\n",
      "Instructions for updating:\n",
      "Please use `rate` instead of `keep_prob`. Rate should be set to `rate = 1 - keep_prob`.\n",
      "_________________________________________________________________\n",
      "Layer (type)                 Output Shape              Param #   \n",
      "=================================================================\n",
      "conv2d_1 (Conv2D)            (None, 148, 148, 32)      320       \n",
      "_________________________________________________________________\n",
      "max_pooling2d_1 (MaxPooling2 (None, 74, 74, 32)        0         \n",
      "_________________________________________________________________\n",
      "batch_normalization_1 (Batch (None, 74, 74, 32)        128       \n",
      "_________________________________________________________________\n",
      "dropout_1 (Dropout)          (None, 74, 74, 32)        0         \n",
      "_________________________________________________________________\n",
      "conv2d_2 (Conv2D)            (None, 72, 72, 64)        18496     \n",
      "_________________________________________________________________\n",
      "max_pooling2d_2 (MaxPooling2 (None, 36, 36, 64)        0         \n",
      "_________________________________________________________________\n",
      "batch_normalization_2 (Batch (None, 36, 36, 64)        256       \n",
      "_________________________________________________________________\n",
      "dropout_2 (Dropout)          (None, 36, 36, 64)        0         \n",
      "_________________________________________________________________\n",
      "conv2d_3 (Conv2D)            (None, 34, 34, 128)       73856     \n",
      "_________________________________________________________________\n",
      "max_pooling2d_3 (MaxPooling2 (None, 17, 17, 128)       0         \n",
      "_________________________________________________________________\n",
      "batch_normalization_3 (Batch (None, 17, 17, 128)       512       \n",
      "_________________________________________________________________\n",
      "dropout_3 (Dropout)          (None, 17, 17, 128)       0         \n",
      "_________________________________________________________________\n",
      "conv2d_4 (Conv2D)            (None, 15, 15, 128)       147584    \n",
      "_________________________________________________________________\n",
      "max_pooling2d_4 (MaxPooling2 (None, 7, 7, 128)         0         \n",
      "_________________________________________________________________\n",
      "flatten_1 (Flatten)          (None, 6272)              0         \n",
      "_________________________________________________________________\n",
      "dense_1 (Dense)              (None, 64)                401472    \n",
      "_________________________________________________________________\n",
      "dropout_4 (Dropout)          (None, 64)                0         \n",
      "_________________________________________________________________\n",
      "dense_2 (Dense)              (None, 1)                 65        \n",
      "=================================================================\n",
      "Total params: 642,689\n",
      "Trainable params: 642,241\n",
      "Non-trainable params: 448\n",
      "_________________________________________________________________\n"
     ]
    }
   ],
   "source": [
    "model = Sequential()\n",
    "model.add(Conv2D(32, (3, 3), activation = 'relu', input_shape = train_generator.image_shape))\n",
    "model.add(MaxPooling2D((2, 2)))\n",
    "model.add(BatchNormalization())\n",
    "model.add(Dropout(rate = 0.15))\n",
    "model.add(Conv2D(64, (3, 3), activation = 'relu'))\n",
    "model.add(MaxPooling2D((2, 2)))\n",
    "model.add(BatchNormalization())\n",
    "model.add(Dropout(rate = 0.15))\n",
    "model.add(Conv2D(128, (3, 3), activation = 'relu'))\n",
    "model.add(MaxPooling2D((2, 2)))\n",
    "model.add(BatchNormalization())\n",
    "model.add(Dropout(rate = 0.15))\n",
    "model.add(Conv2D(128, (3, 3), activation = 'relu'))\n",
    "model.add(MaxPooling2D((2, 2)))\n",
    "model.add(Flatten())\n",
    "model.add(Dense(64, activation = 'relu'))\n",
    "model.add(Dropout(0.15))\n",
    "model.add(Dense(1, activation = 'sigmoid'))\n",
    "model.summary()"
   ]
  },
  {
   "cell_type": "code",
   "execution_count": 15,
   "metadata": {},
   "outputs": [],
   "source": [
    "def precision(y_true, y_pred):\n",
    "    true_positives = K.sum(K.round(K.clip(y_true * y_pred, 0, 1)))\n",
    "    predicted_positives = K.sum(K.round(K.clip(y_pred, 0, 1)))\n",
    "    precision = true_positives / (predicted_positives + K.epsilon())\n",
    "    return precision\n",
    "\n",
    "\n",
    "def recall(y_true, y_pred):\n",
    "    true_positives = K.sum(K.round(K.clip(y_true * y_pred, 0, 1)))\n",
    "    possible_positives = K.sum(K.round(K.clip(y_true, 0, 1)))\n",
    "    recall = true_positives / (possible_positives + K.epsilon())\n",
    "    return recall\n",
    "\n",
    "\n",
    "def fbeta_score(y_true, y_pred, beta = 1):\n",
    "    if beta < 0:\n",
    "        raise ValueError('The lowest choosable beta is zero (only precision).')\n",
    "    if K.sum(K.round(K.clip(y_true, 0, 1))) == 0:\n",
    "        return 0\n",
    "    p = precision(y_true, y_pred)\n",
    "    r = recall(y_true, y_pred)\n",
    "    bb = beta ** 2\n",
    "    fbeta_score = (1 + bb) * (p * r) / (bb * p + r + K.epsilon())\n",
    "    return fbeta_score\n",
    "\n",
    "\n",
    "def fmeasure(y_true, y_pred):\n",
    "    return fbeta_score(y_true, y_pred, beta = 1)"
   ]
  },
  {
   "cell_type": "code",
   "execution_count": 16,
   "metadata": {
    "scrolled": false
   },
   "outputs": [
    {
     "name": "stdout",
     "output_type": "stream",
     "text": [
      "Epoch 1/50\n",
      "100/100 [==============================] - 21s 211ms/step - loss: 1.2595 - acc: 0.6950 - fmeasure: 0.6133 - recall: 0.6517 - precision: 0.6650 - val_loss: 0.6612 - val_acc: 0.6080 - val_fmeasure: 0.5996 - val_recall: 0.7174 - val_precision: 0.5352\n",
      "Epoch 2/50\n",
      "100/100 [==============================] - 21s 209ms/step - loss: 0.4006 - acc: 0.7950 - fmeasure: 0.7034 - recall: 0.6933 - precision: 0.7658 - val_loss: 0.6581 - val_acc: 0.6687 - val_fmeasure: 0.6537 - val_recall: 0.7225 - val_precision: 0.6342\n",
      "Epoch 3/50\n",
      "100/100 [==============================] - 22s 216ms/step - loss: 0.3916 - acc: 0.8225 - fmeasure: 0.7798 - recall: 0.7950 - precision: 0.8242 - val_loss: 3.0526 - val_acc: 0.4925 - val_fmeasure: 0.6167 - val_recall: 0.8383 - val_precision: 0.5058\n",
      "Epoch 4/50\n",
      "100/100 [==============================] - 20s 203ms/step - loss: 0.4388 - acc: 0.8250 - fmeasure: 0.7330 - recall: 0.7442 - precision: 0.7833 - val_loss: 0.4528 - val_acc: 0.7803 - val_fmeasure: 0.6075 - val_recall: 0.6375 - val_precision: 0.6176\n",
      "Epoch 5/50\n",
      "100/100 [==============================] - 20s 201ms/step - loss: 0.4042 - acc: 0.8400 - fmeasure: 0.7410 - recall: 0.7392 - precision: 0.8067 - val_loss: 0.5531 - val_acc: 0.7875 - val_fmeasure: 0.5555 - val_recall: 0.4992 - val_precision: 0.6650\n",
      "Epoch 6/50\n",
      "100/100 [==============================] - 20s 199ms/step - loss: 0.3747 - acc: 0.8375 - fmeasure: 0.7748 - recall: 0.7775 - precision: 0.8233 - val_loss: 0.4725 - val_acc: 0.7675 - val_fmeasure: 0.5713 - val_recall: 0.5492 - val_precision: 0.6300\n",
      "Epoch 7/50\n",
      "100/100 [==============================] - 22s 218ms/step - loss: 0.3098 - acc: 0.8600 - fmeasure: 0.7933 - recall: 0.8159 - precision: 0.8159 - val_loss: 0.4633 - val_acc: 0.8227 - val_fmeasure: 0.5956 - val_recall: 0.5510 - val_precision: 0.6692\n",
      "Epoch 8/50\n",
      "100/100 [==============================] - 22s 218ms/step - loss: 0.3316 - acc: 0.8275 - fmeasure: 0.7402 - recall: 0.7217 - precision: 0.8183 - val_loss: 0.5180 - val_acc: 0.8050 - val_fmeasure: 0.5850 - val_recall: 0.5492 - val_precision: 0.6517\n",
      "Epoch 9/50\n",
      "100/100 [==============================] - 21s 211ms/step - loss: 0.3679 - acc: 0.8550 - fmeasure: 0.7348 - recall: 0.7175 - precision: 0.8033 - val_loss: 0.4605 - val_acc: 0.8250 - val_fmeasure: 0.6709 - val_recall: 0.6558 - val_precision: 0.7150\n",
      "Epoch 10/50\n",
      "100/100 [==============================] - 21s 213ms/step - loss: 0.2967 - acc: 0.8800 - fmeasure: 0.8351 - recall: 0.8308 - precision: 0.8883 - val_loss: 0.4359 - val_acc: 0.8040 - val_fmeasure: 0.5806 - val_recall: 0.5260 - val_precision: 0.6692\n",
      "Epoch 11/50\n",
      "100/100 [==============================] - 21s 210ms/step - loss: 0.3107 - acc: 0.8750 - fmeasure: 0.7927 - recall: 0.7933 - precision: 0.8408 - val_loss: 0.7893 - val_acc: 0.6438 - val_fmeasure: 0.6425 - val_recall: 0.7533 - val_precision: 0.5846\n",
      "Epoch 12/50\n",
      "100/100 [==============================] - 21s 213ms/step - loss: 0.3310 - acc: 0.8400 - fmeasure: 0.7212 - recall: 0.7358 - precision: 0.7600 - val_loss: 0.4821 - val_acc: 0.7700 - val_fmeasure: 0.7066 - val_recall: 0.7650 - val_precision: 0.6792\n",
      "Epoch 13/50\n",
      "100/100 [==============================] - 21s 212ms/step - loss: 0.3555 - acc: 0.8650 - fmeasure: 0.8022 - recall: 0.7992 - precision: 0.8592 - val_loss: 0.4211 - val_acc: 0.8425 - val_fmeasure: 0.6073 - val_recall: 0.5733 - val_precision: 0.6650\n",
      "Epoch 14/50\n",
      "100/100 [==============================] - 21s 212ms/step - loss: 0.2913 - acc: 0.8725 - fmeasure: 0.7574 - recall: 0.7517 - precision: 0.8025 - val_loss: 0.5245 - val_acc: 0.8202 - val_fmeasure: 0.5976 - val_recall: 0.5976 - val_precision: 0.6242\n",
      "Epoch 15/50\n",
      "100/100 [==============================] - 21s 209ms/step - loss: 0.2574 - acc: 0.9025 - fmeasure: 0.8216 - recall: 0.8325 - precision: 0.8492 - val_loss: 0.6670 - val_acc: 0.8275 - val_fmeasure: 0.6240 - val_recall: 0.6158 - val_precision: 0.6675\n",
      "Epoch 16/50\n",
      "100/100 [==============================] - 21s 215ms/step - loss: 0.3385 - acc: 0.8425 - fmeasure: 0.7466 - recall: 0.7133 - precision: 0.8417 - val_loss: 0.4949 - val_acc: 0.8413 - val_fmeasure: 0.6113 - val_recall: 0.5767 - val_precision: 0.6700\n",
      "Epoch 17/50\n",
      "100/100 [==============================] - 21s 209ms/step - loss: 0.3210 - acc: 0.8725 - fmeasure: 0.8213 - recall: 0.8475 - precision: 0.8367 - val_loss: 0.4721 - val_acc: 0.8602 - val_fmeasure: 0.6935 - val_recall: 0.6775 - val_precision: 0.7308\n",
      "Epoch 18/50\n",
      "100/100 [==============================] - 21s 209ms/step - loss: 0.3326 - acc: 0.8700 - fmeasure: 0.8020 - recall: 0.8200 - precision: 0.8367 - val_loss: 0.6839 - val_acc: 0.7050 - val_fmeasure: 0.6735 - val_recall: 0.7600 - val_precision: 0.6267\n",
      "Epoch 19/50\n",
      "100/100 [==============================] - 21s 210ms/step - loss: 0.3026 - acc: 0.8725 - fmeasure: 0.7709 - recall: 0.7851 - precision: 0.8042 - val_loss: 0.3767 - val_acc: 0.8838 - val_fmeasure: 0.7440 - val_recall: 0.7583 - val_precision: 0.7475\n",
      "Epoch 20/50\n",
      "100/100 [==============================] - 21s 209ms/step - loss: 0.2871 - acc: 0.8900 - fmeasure: 0.8424 - recall: 0.8483 - precision: 0.8700 - val_loss: 0.4748 - val_acc: 0.8202 - val_fmeasure: 0.7140 - val_recall: 0.7574 - val_precision: 0.6975\n",
      "Epoch 21/50\n",
      "100/100 [==============================] - 21s 211ms/step - loss: 0.2791 - acc: 0.8875 - fmeasure: 0.8822 - recall: 0.8858 - precision: 0.9208 - val_loss: 0.3551 - val_acc: 0.8438 - val_fmeasure: 0.6800 - val_recall: 0.6542 - val_precision: 0.7317\n",
      "Epoch 22/50\n",
      "100/100 [==============================] - 21s 207ms/step - loss: 0.2186 - acc: 0.9200 - fmeasure: 0.8465 - recall: 0.8325 - precision: 0.8908 - val_loss: 0.5041 - val_acc: 0.7675 - val_fmeasure: 0.6911 - val_recall: 0.7600 - val_precision: 0.6558\n",
      "Epoch 23/50\n",
      "100/100 [==============================] - 20s 204ms/step - loss: 0.2955 - acc: 0.8800 - fmeasure: 0.8188 - recall: 0.8208 - precision: 0.8575 - val_loss: 0.4560 - val_acc: 0.8414 - val_fmeasure: 0.6785 - val_recall: 0.6525 - val_precision: 0.7308\n",
      "Epoch 24/50\n",
      "100/100 [==============================] - 20s 204ms/step - loss: 0.2953 - acc: 0.8825 - fmeasure: 0.7730 - recall: 0.7608 - precision: 0.8192 - val_loss: 0.4304 - val_acc: 0.8225 - val_fmeasure: 0.6600 - val_recall: 0.6242 - val_precision: 0.7267\n",
      "Epoch 25/50\n",
      "100/100 [==============================] - 20s 204ms/step - loss: 0.2996 - acc: 0.8875 - fmeasure: 0.8216 - recall: 0.8025 - precision: 0.8817 - val_loss: 0.4786 - val_acc: 0.8287 - val_fmeasure: 0.7271 - val_recall: 0.7650 - val_precision: 0.7125\n",
      "Epoch 26/50\n",
      "100/100 [==============================] - 21s 205ms/step - loss: 0.2858 - acc: 0.8875 - fmeasure: 0.8329 - recall: 0.8242 - precision: 0.8833 - val_loss: 0.3841 - val_acc: 0.8800 - val_fmeasure: 0.7533 - val_recall: 0.7800 - val_precision: 0.7400\n",
      "Epoch 27/50\n",
      "100/100 [==============================] - 21s 205ms/step - loss: 0.2997 - acc: 0.8575 - fmeasure: 0.7747 - recall: 0.7500 - precision: 0.8442 - val_loss: 0.3943 - val_acc: 0.9001 - val_fmeasure: 0.7460 - val_recall: 0.7840 - val_precision: 0.7241\n",
      "Epoch 28/50\n",
      "100/100 [==============================] - 21s 206ms/step - loss: 0.3099 - acc: 0.8550 - fmeasure: 0.7780 - recall: 0.7650 - precision: 0.8458 - val_loss: 0.4139 - val_acc: 0.8488 - val_fmeasure: 0.6915 - val_recall: 0.6583 - val_precision: 0.7475\n",
      "Epoch 29/50\n",
      "100/100 [==============================] - 21s 205ms/step - loss: 0.2559 - acc: 0.8975 - fmeasure: 0.8033 - recall: 0.7850 - precision: 0.8550 - val_loss: 0.5638 - val_acc: 0.8213 - val_fmeasure: 0.6783 - val_recall: 0.6517 - val_precision: 0.7317\n",
      "Epoch 30/50\n",
      "100/100 [==============================] - 20s 203ms/step - loss: 0.3122 - acc: 0.8800 - fmeasure: 0.8181 - recall: 0.8367 - precision: 0.8392 - val_loss: 0.3763 - val_acc: 0.8801 - val_fmeasure: 0.7201 - val_recall: 0.7174 - val_precision: 0.7308\n",
      "Epoch 31/50\n",
      "100/100 [==============================] - 21s 206ms/step - loss: 0.2291 - acc: 0.9025 - fmeasure: 0.8183 - recall: 0.8150 - precision: 0.8508 - val_loss: 0.4927 - val_acc: 0.8650 - val_fmeasure: 0.6970 - val_recall: 0.6825 - val_precision: 0.7317\n",
      "Epoch 32/50\n"
     ]
    },
    {
     "name": "stdout",
     "output_type": "stream",
     "text": [
      "100/100 [==============================] - 20s 199ms/step - loss: 0.2825 - acc: 0.8750 - fmeasure: 0.7891 - recall: 0.7792 - precision: 0.8551 - val_loss: 0.3713 - val_acc: 0.8625 - val_fmeasure: 0.6934 - val_recall: 0.6808 - val_precision: 0.7275\n",
      "Epoch 33/50\n",
      "100/100 [==============================] - 20s 202ms/step - loss: 0.2425 - acc: 0.8975 - fmeasure: 0.8440 - recall: 0.8542 - precision: 0.8750 - val_loss: 0.3577 - val_acc: 0.8602 - val_fmeasure: 0.6935 - val_recall: 0.6775 - val_precision: 0.7308\n",
      "Epoch 34/50\n",
      "100/100 [==============================] - 20s 199ms/step - loss: 0.2836 - acc: 0.9025 - fmeasure: 0.8204 - recall: 0.8242 - precision: 0.8433 - val_loss: 0.3150 - val_acc: 0.8638 - val_fmeasure: 0.6960 - val_recall: 0.6808 - val_precision: 0.7317\n",
      "Epoch 35/50\n",
      "100/100 [==============================] - 20s 200ms/step - loss: 0.2464 - acc: 0.9025 - fmeasure: 0.8435 - recall: 0.8558 - precision: 0.8675 - val_loss: 0.2929 - val_acc: 0.8650 - val_fmeasure: 0.7186 - val_recall: 0.7600 - val_precision: 0.7025\n",
      "Epoch 36/50\n",
      "100/100 [==============================] - 20s 199ms/step - loss: 0.2777 - acc: 0.8625 - fmeasure: 0.8010 - recall: 0.7992 - precision: 0.8467 - val_loss: 0.4123 - val_acc: 0.8427 - val_fmeasure: 0.6758 - val_recall: 0.6525 - val_precision: 0.7253\n",
      "Epoch 37/50\n",
      "100/100 [==============================] - 20s 200ms/step - loss: 0.2407 - acc: 0.8875 - fmeasure: 0.7840 - recall: 0.7683 - precision: 0.8358 - val_loss: 0.4108 - val_acc: 0.8413 - val_fmeasure: 0.7009 - val_recall: 0.7158 - val_precision: 0.7200\n",
      "Epoch 38/50\n",
      "100/100 [==============================] - 20s 200ms/step - loss: 0.2247 - acc: 0.9175 - fmeasure: 0.8664 - recall: 0.8626 - precision: 0.9026 - val_loss: 2.0729 - val_acc: 0.5125 - val_fmeasure: 0.6212 - val_recall: 0.8275 - val_precision: 0.5121\n",
      "Epoch 39/50\n",
      "100/100 [==============================] - 20s 197ms/step - loss: 0.2882 - acc: 0.8600 - fmeasure: 0.7725 - recall: 0.7517 - precision: 0.8333 - val_loss: 0.3714 - val_acc: 0.8800 - val_fmeasure: 0.7373 - val_recall: 0.7533 - val_precision: 0.7400\n",
      "Epoch 40/50\n",
      "100/100 [==============================] - 20s 202ms/step - loss: 0.2675 - acc: 0.9000 - fmeasure: 0.7980 - recall: 0.7950 - precision: 0.8342 - val_loss: 0.4072 - val_acc: 0.8801 - val_fmeasure: 0.6988 - val_recall: 0.6509 - val_precision: 0.7840\n",
      "Epoch 41/50\n",
      "100/100 [==============================] - 20s 200ms/step - loss: 0.2537 - acc: 0.8925 - fmeasure: 0.7423 - recall: 0.7517 - precision: 0.7650 - val_loss: 0.4786 - val_acc: 0.8675 - val_fmeasure: 0.6915 - val_recall: 0.6583 - val_precision: 0.7475\n",
      "Epoch 42/50\n",
      "100/100 [==============================] - 20s 200ms/step - loss: 0.2471 - acc: 0.8975 - fmeasure: 0.8217 - recall: 0.8175 - precision: 0.8600 - val_loss: 0.5529 - val_acc: 0.8413 - val_fmeasure: 0.7042 - val_recall: 0.7183 - val_precision: 0.7196\n",
      "Epoch 43/50\n",
      "100/100 [==============================] - 20s 201ms/step - loss: 0.2517 - acc: 0.9075 - fmeasure: 0.8816 - recall: 0.8700 - precision: 0.9233 - val_loss: 0.2843 - val_acc: 0.8602 - val_fmeasure: 0.6935 - val_recall: 0.6775 - val_precision: 0.7308\n",
      "Epoch 44/50\n",
      "100/100 [==============================] - 20s 199ms/step - loss: 0.2071 - acc: 0.9125 - fmeasure: 0.8449 - recall: 0.8401 - precision: 0.8817 - val_loss: 0.3252 - val_acc: 0.8625 - val_fmeasure: 0.7309 - val_recall: 0.7850 - val_precision: 0.6983\n",
      "Epoch 45/50\n",
      "100/100 [==============================] - 20s 201ms/step - loss: 0.2547 - acc: 0.9025 - fmeasure: 0.8408 - recall: 0.8442 - precision: 0.8592 - val_loss: 0.3014 - val_acc: 0.8838 - val_fmeasure: 0.7440 - val_recall: 0.7583 - val_precision: 0.7475\n",
      "Epoch 46/50\n",
      "100/100 [==============================] - 20s 198ms/step - loss: 0.2503 - acc: 0.8800 - fmeasure: 0.8043 - recall: 0.7850 - precision: 0.8633 - val_loss: 0.3887 - val_acc: 0.8215 - val_fmeasure: 0.6785 - val_recall: 0.6525 - val_precision: 0.7308\n",
      "Epoch 47/50\n",
      "100/100 [==============================] - 20s 201ms/step - loss: 0.2581 - acc: 0.9000 - fmeasure: 0.8398 - recall: 0.8308 - precision: 0.8858 - val_loss: 0.3655 - val_acc: 0.8625 - val_fmeasure: 0.7309 - val_recall: 0.7583 - val_precision: 0.7250\n",
      "Epoch 48/50\n",
      "100/100 [==============================] - 20s 199ms/step - loss: 0.2788 - acc: 0.8550 - fmeasure: 0.8151 - recall: 0.8158 - precision: 0.8767 - val_loss: 0.4035 - val_acc: 0.8638 - val_fmeasure: 0.6898 - val_recall: 0.6558 - val_precision: 0.7475\n",
      "Epoch 49/50\n",
      "100/100 [==============================] - 20s 200ms/step - loss: 0.2069 - acc: 0.9425 - fmeasure: 0.8528 - recall: 0.8592 - precision: 0.8692 - val_loss: 0.5328 - val_acc: 0.8414 - val_fmeasure: 0.6705 - val_recall: 0.6525 - val_precision: 0.7174\n",
      "Epoch 50/50\n",
      "100/100 [==============================] - 20s 199ms/step - loss: 0.2620 - acc: 0.9000 - fmeasure: 0.8479 - recall: 0.8459 - precision: 0.8834 - val_loss: 0.4138 - val_acc: 0.8213 - val_fmeasure: 0.6796 - val_recall: 0.6758 - val_precision: 0.7067\n"
     ]
    }
   ],
   "source": [
    "# optimizer = Adam(lr = 0.0001)\n",
    "\n",
    "model.compile(loss = 'binary_crossentropy', optimizer = 'adam',\n",
    "              metrics = ['accuracy', fmeasure, recall, precision])\n",
    "\n",
    "train_generator.reset()\n",
    "validation_generator.reset()\n",
    "history = model.fit_generator(epochs = 50, shuffle = True, validation_data = validation_generator,\n",
    "                              steps_per_epoch = 100, generator = train_generator,\n",
    "                              validation_steps = validation_dataset.shape[0] * batch_size,\n",
    "                              verbose = 1)"
   ]
  },
  {
   "cell_type": "code",
   "execution_count": 17,
   "metadata": {},
   "outputs": [
    {
     "name": "stdout",
     "output_type": "stream",
     "text": [
      "3324/3324 [==============================] - 27s 8ms/step\n"
     ]
    }
   ],
   "source": [
    "test_generator.reset()\n",
    "test_pred = model.predict_generator(test_generator, verbose = 1, steps = test_dataset.shape[0])"
   ]
  },
  {
   "cell_type": "code",
   "execution_count": 18,
   "metadata": {},
   "outputs": [
    {
     "name": "stdout",
     "output_type": "stream",
     "text": [
      "              precision    recall  f1-score   support\n",
      "\n",
      "           0       0.56      0.96      0.70       329\n",
      "           1       0.99      0.92      0.95      2995\n",
      "\n",
      "    accuracy                           0.92      3324\n",
      "   macro avg       0.78      0.94      0.83      3324\n",
      "weighted avg       0.95      0.92      0.93      3324\n",
      "\n"
     ]
    }
   ],
   "source": [
    "print(classification_report(test_generator.classes, np.rint(test_pred).astype(int).flatten().tolist()))"
   ]
  },
  {
   "cell_type": "code",
   "execution_count": null,
   "metadata": {
    "scrolled": false
   },
   "outputs": [],
   "source": []
  },
  {
   "cell_type": "code",
   "execution_count": null,
   "metadata": {},
   "outputs": [],
   "source": []
  }
 ],
 "metadata": {
  "jupytext": {
   "formats": "ipynb,py:light"
  },
  "kernelspec": {
   "display_name": "JKERNEL",
   "language": "python",
   "name": "jkernel"
  },
  "language_info": {
   "codemirror_mode": {
    "name": "ipython",
    "version": 3
   },
   "file_extension": ".py",
   "mimetype": "text/x-python",
   "name": "python",
   "nbconvert_exporter": "python",
   "pygments_lexer": "ipython3",
   "version": "3.7.3"
  }
 },
 "nbformat": 4,
 "nbformat_minor": 2
}
