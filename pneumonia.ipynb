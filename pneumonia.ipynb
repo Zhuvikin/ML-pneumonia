{
 "cells": [
  {
   "cell_type": "code",
   "execution_count": 1,
   "metadata": {},
   "outputs": [
    {
     "name": "stderr",
     "output_type": "stream",
     "text": [
      "Using TensorFlow backend.\n"
     ]
    }
   ],
   "source": [
    "import os\n",
    "import random\n",
    "import numpy as np\n",
    "import tensorflow as tf\n",
    "from keras import backend as K\n",
    "import cv2\n",
    "import glob\n",
    "import pandas as pd\n",
    "from matplotlib import pyplot as plt\n",
    "from math import ceil, floor\n",
    "from tqdm import tqdm, tqdm_notebook\n",
    "from skimage import morphology\n",
    "from keras.utils.data_utils import get_file\n",
    "from keras.models import load_model\n",
    "from keras.preprocessing.image import ImageDataGenerator\n",
    "from imblearn.under_sampling import RandomUnderSampler\n",
    "from keras.callbacks import ModelCheckpoint\n",
    "from sklearn.model_selection import train_test_split\n",
    "\n",
    "from keras.optimizers import Adam, SGD, RMSprop\n",
    "from keras.models import Sequential, Input, Model\n",
    "from keras.layers import Conv2D, MaxPooling2D, MaxPooling1D, GlobalAveragePooling2D, ZeroPadding2D, Dense, Dropout, \\\n",
    "    Flatten, Input, LSTM, TimeDistributed\n",
    "from keras.layers.normalization import BatchNormalization\n",
    "from sklearn.metrics import recall_score, roc_auc_score, f1_score, roc_curve, classification_report"
   ]
  },
  {
   "cell_type": "code",
   "execution_count": 2,
   "metadata": {},
   "outputs": [],
   "source": [
    "base_data_dir = '../data/chest_xray/'\n",
    "\n",
    "data_dir = base_data_dir + 'prepared/'\n",
    "normal_dir = data_dir + 'normal/'\n",
    "pneumonia_dir = data_dir + 'pneumonia/'\n",
    "bacteria_dir = pneumonia_dir + 'bacteria/'\n",
    "virus_dir = pneumonia_dir + 'virus/'\n",
    "models_dir = './models/'\n",
    "models_lungs_dir = models_dir + 'lung/'\n",
    "models_binary_dir = models_dir + 'binary/'\n",
    "models_categorical_dir = models_dir + 'categorical/'\n",
    "\n",
    "for directory in [normal_dir, bacteria_dir, virus_dir, models_lungs_dir,\n",
    "                  models_binary_dir, models_categorical_dir]:\n",
    "    if not os.path.exists(directory):\n",
    "        os.makedirs(directory)\n",
    "        \n",
    "lung_segmentation_model_path = models_lungs_dir + 'lung_segmentation.hdf5'\n",
    "best_binary_model_path = models_binary_dir + 'pneumonia.hdf5'\n",
    "best_categorical_model_path = models_categorical_dir + 'pneumonia.hdf5'"
   ]
  },
  {
   "cell_type": "code",
   "execution_count": 3,
   "metadata": {},
   "outputs": [],
   "source": [
    "normal_patterns = [\n",
    "    base_data_dir + 'train/NORMAL/*.jpeg',\n",
    "    base_data_dir + 'test/NORMAL/*.jpeg',\n",
    "    base_data_dir + 'val/NORMAL/*.jpeg'\n",
    "]\n",
    "\n",
    "bacteria_patterns = [\n",
    "    base_data_dir + 'train/PNEUMONIA/*bacteria*.jpeg',\n",
    "    base_data_dir + 'test/PNEUMONIA/*bacteria*.jpeg',\n",
    "    base_data_dir + 'val/PNEUMONIA/*bacteria*.jpeg'\n",
    "]\n",
    "\n",
    "virus_patterns = [\n",
    "    base_data_dir + 'train/PNEUMONIA/*virus*.jpeg',\n",
    "    base_data_dir + 'test/PNEUMONIA/*virus*.jpeg',\n",
    "    base_data_dir + 'val/PNEUMONIA/*virus*.jpeg'\n",
    "]\n",
    "\n",
    "raw_normal = [item for sublist in [glob.glob(path) for path in normal_patterns] for item in sublist]\n",
    "raw_bacteria = [item for sublist in [glob.glob(path) for path in bacteria_patterns] for item in sublist]\n",
    "raw_virus = [item for sublist in [glob.glob(path) for path in virus_patterns] for item in sublist]"
   ]
  },
  {
   "cell_type": "code",
   "execution_count": 4,
   "metadata": {},
   "outputs": [
    {
     "name": "stdout",
     "output_type": "stream",
     "text": [
      "WARNING:tensorflow:From /Users/zhuvikin/anaconda3/envs/AIU_ML/lib/python3.7/site-packages/tensorflow/python/framework/op_def_library.py:263: colocate_with (from tensorflow.python.framework.ops) is deprecated and will be removed in a future version.\n",
      "Instructions for updating:\n",
      "Colocations handled automatically by placer.\n",
      "WARNING:tensorflow:From /Users/zhuvikin/anaconda3/envs/AIU_ML/lib/python3.7/site-packages/tensorflow/python/ops/math_ops.py:3066: to_int32 (from tensorflow.python.ops.math_ops) is deprecated and will be removed in a future version.\n",
      "Instructions for updating:\n",
      "Use tf.cast instead.\n"
     ]
    },
    {
     "name": "stderr",
     "output_type": "stream",
     "text": [
      "/Users/zhuvikin/anaconda3/envs/AIU_ML/lib/python3.7/site-packages/keras/engine/saving.py:327: UserWarning: Error in loading the saved optimizer state. As a result, your model is starting with a freshly initialized optimizer.\n",
      "  warnings.warn('Error in loading the saved optimizer '\n"
     ]
    }
   ],
   "source": [
    "get_file('lung_segmentation.hdf5',\n",
    "         'https://raw.githubusercontent.com/imlab-uiip/lung-segmentation-2d/master/trained_model.hdf5',\n",
    "         cache_dir = models_dir, cache_subdir = 'lung')\n",
    "\n",
    "UNet = load_model(lung_segmentation_model_path)"
   ]
  },
  {
   "cell_type": "code",
   "execution_count": 5,
   "metadata": {},
   "outputs": [],
   "source": [
    "def adjust_gamma(image, gamma = 1.0):\n",
    "    invGamma = 1.0 / gamma\n",
    "    table = np.array([\n",
    "        ((i / 255.0) ** invGamma) * 255\n",
    "        for i in np.arange(0, 256)])\n",
    "    return cv2.LUT(image.astype(np.uint8), table.astype(np.uint8))\n",
    "\n",
    "\n",
    "def adjust_contrast(image, contrast = 0):\n",
    "    buf = image.copy()\n",
    "    if contrast != 0:\n",
    "        f = 131 * (contrast + 127) / (127 * (131 - contrast))\n",
    "        alpha_c = f\n",
    "        gamma_c = 127 * (1 - f)\n",
    "        buf = cv2.addWeighted(buf, alpha_c, buf, 0, gamma_c)\n",
    "    return buf\n",
    "\n",
    "\n",
    "def normalize_image(original, target_width = 256):\n",
    "    im_shape = (256, 256)\n",
    "    original_width = original.shape[1]\n",
    "    original_height = original.shape[0]\n",
    "\n",
    "    width_coeff = 256 / original_width\n",
    "    height_coeff = 256 / original_height\n",
    "\n",
    "    img = cv2.resize(original, im_shape, interpolation = cv2.INTER_AREA)\n",
    "    img = cv2.equalizeHist(img)\n",
    "    img = adjust_gamma(img, 0.75)\n",
    "    img = img * 1.2\n",
    "    img = np.clip(img, 0, 255)\n",
    "\n",
    "    img2 = img.astype(float)\n",
    "    img2 -= img2.mean()\n",
    "    img2 /= img2.std()\n",
    "\n",
    "    img2 = np.expand_dims(img2, -1)\n",
    "    inp_shape = img2.shape\n",
    "    pred = UNet.predict([[img2]])[..., 0].reshape(inp_shape[:2])\n",
    "    pr = pred > 0.5\n",
    "    pr = remove_small_regions(pr, 0.01 * np.prod(im_shape))\n",
    "    pr = pr.astype(int)\n",
    "\n",
    "    non_empty_columns = np.where(pr.max(axis = 0) > 0)[0]\n",
    "    non_empty_rows = np.where(pr.max(axis = 1) > 0)[0]\n",
    "    left = min(non_empty_columns) if len(non_empty_columns) > 0 else 0\n",
    "    right = max(non_empty_columns) if len(non_empty_columns) > 0 else 256\n",
    "    top = min(non_empty_rows) if len(non_empty_rows) > 0 else 0\n",
    "    bottom = max(non_empty_rows) if len(non_empty_rows) > 0 else 256\n",
    "\n",
    "    if right < 256 / 1.9:\n",
    "        right = 256 - left\n",
    "\n",
    "    if left > 256 / 2.1:\n",
    "        left = 256 - right\n",
    "\n",
    "    l = floor(left / width_coeff)\n",
    "    t = floor(top / height_coeff)\n",
    "    w = floor((right - left) / width_coeff)\n",
    "    h = floor((bottom - top) / height_coeff)\n",
    "\n",
    "    cropped = original[t:t + h, l:l + w]\n",
    "    resized = cv2.resize(cropped, (target_width, target_width), interpolation = cv2.INTER_AREA)\n",
    "    equalized = cv2.equalizeHist(resized)\n",
    "    return equalized\n",
    "\n",
    "\n",
    "def remove_small_regions(img, size):\n",
    "    \"\"\"Morphologically removes small (less than size) connected regions of 0s or 1s.\"\"\"\n",
    "    img = morphology.remove_small_objects(img, size)\n",
    "    img = morphology.remove_small_holes(img, size)\n",
    "    return img"
   ]
  },
  {
   "cell_type": "code",
   "execution_count": 6,
   "metadata": {
    "lines_to_next_cell": 0
   },
   "outputs": [
    {
     "data": {
      "application/vnd.jupyter.widget-view+json": {
       "model_id": "5953f206c1b340f7bbecf5c899df2819",
       "version_major": 2,
       "version_minor": 0
      },
      "text/plain": [
       "HBox(children=(IntProgress(value=0, max=1583), HTML(value='')))"
      ]
     },
     "metadata": {},
     "output_type": "display_data"
    },
    {
     "name": "stdout",
     "output_type": "stream",
     "text": [
      "\n"
     ]
    },
    {
     "data": {
      "application/vnd.jupyter.widget-view+json": {
       "model_id": "98c4111445934a9c8673f8824cb8ead8",
       "version_major": 2,
       "version_minor": 0
      },
      "text/plain": [
       "HBox(children=(IntProgress(value=0, max=4273), HTML(value='')))"
      ]
     },
     "metadata": {},
     "output_type": "display_data"
    },
    {
     "name": "stdout",
     "output_type": "stream",
     "text": [
      "\n"
     ]
    }
   ],
   "source": [
    "image_width = 256\n",
    "\n",
    "i = 0\n",
    "for path in tqdm_notebook(raw_normal):\n",
    "    output_path = normal_dir + '{0:04d}.jpeg'.format(i)\n",
    "    if not os.path.exists(output_path):\n",
    "        img = cv2.imread(path, 0)\n",
    "        normalized = normalize_image(img, image_width)\n",
    "        cv2.imwrite(output_path, normalized)\n",
    "    i += 1\n",
    "\n",
    "i = 0\n",
    "for path in tqdm_notebook(raw_bacteria + raw_virus):\n",
    "    if 'bacteria' in path:\n",
    "        output_path = bacteria_dir + '{0:04d}.jpeg'.format(i)\n",
    "    else:\n",
    "        output_path = virus_dir + '{0:04d}.jpeg'.format(i)\n",
    "    if not os.path.exists(output_path):\n",
    "        img = cv2.imread(path, 0)\n",
    "        normalized = normalize_image(img, image_width)\n",
    "        cv2.imwrite(output_path, normalized)\n",
    "    i += 1"
   ]
  },
  {
   "cell_type": "code",
   "execution_count": 7,
   "metadata": {
    "lines_to_next_cell": 2
   },
   "outputs": [],
   "source": [
    "normal_df = pd.DataFrame(\n",
    "    {'path': glob.glob(normal_dir + '*.jpeg'), 'normal': 1, 'bacteria': 0, 'virus': 0, 'target': 'Normal'})\n",
    "bacteria_df = pd.DataFrame(\n",
    "    {'path': glob.glob(bacteria_dir + '*.jpeg'), 'normal': 0, 'bacteria': 1, 'virus': 0, 'target': 'Pneumonia'})\n",
    "virus_df = pd.DataFrame(\n",
    "    {'path': glob.glob(virus_dir + '*.jpeg'), 'normal': 0, 'bacteria': 0, 'virus': 1, 'target': 'Pneumonia'})\n",
    "\n",
    "# normal_df = pd.DataFrame(\n",
    "#     {'path': raw_normal, 'normal': 1, 'bacteria': 0, 'virus': 0, 'target': 'Normal'})\n",
    "# bacteria_df = pd.DataFrame(\n",
    "#     {'path': raw_bacteria, 'normal': 0, 'bacteria': 1, 'virus': 0, 'target': 'Pneumonia'})\n",
    "# virus_df = pd.DataFrame(\n",
    "#     {'path': raw_virus, 'normal': 0, 'bacteria': 0, 'virus': 1, 'target': 'Pneumonia'})\n",
    "\n",
    "dataset = pd.concat([normal_df, bacteria_df, virus_df])\n",
    "dataset = dataset.sort_values('path')\n",
    "dataset = dataset.sample(frac = 1, random_state = 0).reset_index(drop = True)"
   ]
  },
  {
   "cell_type": "code",
   "execution_count": 8,
   "metadata": {},
   "outputs": [
    {
     "data": {
      "text/html": [
       "<div>\n",
       "<style scoped>\n",
       "    .dataframe tbody tr th:only-of-type {\n",
       "        vertical-align: middle;\n",
       "    }\n",
       "\n",
       "    .dataframe tbody tr th {\n",
       "        vertical-align: top;\n",
       "    }\n",
       "\n",
       "    .dataframe thead th {\n",
       "        text-align: right;\n",
       "    }\n",
       "</style>\n",
       "<table border=\"1\" class=\"dataframe\">\n",
       "  <thead>\n",
       "    <tr style=\"text-align: right;\">\n",
       "      <th></th>\n",
       "      <th>path</th>\n",
       "      <th>normal</th>\n",
       "      <th>bacteria</th>\n",
       "      <th>virus</th>\n",
       "      <th>target</th>\n",
       "    </tr>\n",
       "  </thead>\n",
       "  <tbody>\n",
       "    <tr>\n",
       "      <th>0</th>\n",
       "      <td>../data/chest_xray/prepared/pneumonia/bacteria/2448.jpeg</td>\n",
       "      <td>0</td>\n",
       "      <td>1</td>\n",
       "      <td>0</td>\n",
       "      <td>Pneumonia</td>\n",
       "    </tr>\n",
       "    <tr>\n",
       "      <th>1</th>\n",
       "      <td>../data/chest_xray/prepared/pneumonia/bacteria/0207.jpeg</td>\n",
       "      <td>0</td>\n",
       "      <td>1</td>\n",
       "      <td>0</td>\n",
       "      <td>Pneumonia</td>\n",
       "    </tr>\n",
       "    <tr>\n",
       "      <th>2</th>\n",
       "      <td>../data/chest_xray/prepared/normal/0608.jpeg</td>\n",
       "      <td>1</td>\n",
       "      <td>0</td>\n",
       "      <td>0</td>\n",
       "      <td>Normal</td>\n",
       "    </tr>\n",
       "    <tr>\n",
       "      <th>3</th>\n",
       "      <td>../data/chest_xray/prepared/pneumonia/virus/4160.jpeg</td>\n",
       "      <td>0</td>\n",
       "      <td>0</td>\n",
       "      <td>1</td>\n",
       "      <td>Pneumonia</td>\n",
       "    </tr>\n",
       "    <tr>\n",
       "      <th>4</th>\n",
       "      <td>../data/chest_xray/prepared/pneumonia/virus/4161.jpeg</td>\n",
       "      <td>0</td>\n",
       "      <td>0</td>\n",
       "      <td>1</td>\n",
       "      <td>Pneumonia</td>\n",
       "    </tr>\n",
       "    <tr>\n",
       "      <th>5</th>\n",
       "      <td>../data/chest_xray/prepared/pneumonia/bacteria/1984.jpeg</td>\n",
       "      <td>0</td>\n",
       "      <td>1</td>\n",
       "      <td>0</td>\n",
       "      <td>Pneumonia</td>\n",
       "    </tr>\n",
       "    <tr>\n",
       "      <th>6</th>\n",
       "      <td>../data/chest_xray/prepared/normal/1045.jpeg</td>\n",
       "      <td>1</td>\n",
       "      <td>0</td>\n",
       "      <td>0</td>\n",
       "      <td>Normal</td>\n",
       "    </tr>\n",
       "    <tr>\n",
       "      <th>7</th>\n",
       "      <td>../data/chest_xray/prepared/pneumonia/virus/3815.jpeg</td>\n",
       "      <td>0</td>\n",
       "      <td>0</td>\n",
       "      <td>1</td>\n",
       "      <td>Pneumonia</td>\n",
       "    </tr>\n",
       "    <tr>\n",
       "      <th>8</th>\n",
       "      <td>../data/chest_xray/prepared/normal/0642.jpeg</td>\n",
       "      <td>1</td>\n",
       "      <td>0</td>\n",
       "      <td>0</td>\n",
       "      <td>Normal</td>\n",
       "    </tr>\n",
       "    <tr>\n",
       "      <th>9</th>\n",
       "      <td>../data/chest_xray/prepared/pneumonia/bacteria/1023.jpeg</td>\n",
       "      <td>0</td>\n",
       "      <td>1</td>\n",
       "      <td>0</td>\n",
       "      <td>Pneumonia</td>\n",
       "    </tr>\n",
       "  </tbody>\n",
       "</table>\n",
       "</div>"
      ],
      "text/plain": [
       "                                                       path  normal  bacteria  \\\n",
       "0  ../data/chest_xray/prepared/pneumonia/bacteria/2448.jpeg       0         1   \n",
       "1  ../data/chest_xray/prepared/pneumonia/bacteria/0207.jpeg       0         1   \n",
       "2              ../data/chest_xray/prepared/normal/0608.jpeg       1         0   \n",
       "3     ../data/chest_xray/prepared/pneumonia/virus/4160.jpeg       0         0   \n",
       "4     ../data/chest_xray/prepared/pneumonia/virus/4161.jpeg       0         0   \n",
       "5  ../data/chest_xray/prepared/pneumonia/bacteria/1984.jpeg       0         1   \n",
       "6              ../data/chest_xray/prepared/normal/1045.jpeg       1         0   \n",
       "7     ../data/chest_xray/prepared/pneumonia/virus/3815.jpeg       0         0   \n",
       "8              ../data/chest_xray/prepared/normal/0642.jpeg       1         0   \n",
       "9  ../data/chest_xray/prepared/pneumonia/bacteria/1023.jpeg       0         1   \n",
       "\n",
       "   virus     target  \n",
       "0      0  Pneumonia  \n",
       "1      0  Pneumonia  \n",
       "2      0     Normal  \n",
       "3      1  Pneumonia  \n",
       "4      1  Pneumonia  \n",
       "5      0  Pneumonia  \n",
       "6      0     Normal  \n",
       "7      1  Pneumonia  \n",
       "8      0     Normal  \n",
       "9      0  Pneumonia  "
      ]
     },
     "execution_count": 8,
     "metadata": {},
     "output_type": "execute_result"
    }
   ],
   "source": [
    "pd.set_option('max_colwidth', 100)\n",
    "dataset.head(10)"
   ]
  },
  {
   "cell_type": "code",
   "execution_count": 9,
   "metadata": {},
   "outputs": [
    {
     "data": {
      "image/png": "[encoded data removed]",
      "text/plain": [
       "<Figure size 432x288 with 1 Axes>"
      ]
     },
     "metadata": {},
     "output_type": "display_data"
    }
   ],
   "source": [
    "colors = ['#D4FCEF', '#FDAFD7', '#FECBE5']\n",
    "\n",
    "\n",
    "def labels(normal_amount, bacteria_amount, virus_amount): return \\\n",
    "    'Normal ({0:d})'.format(normal_amount), \\\n",
    "    'Bacteria ({0:d})'.format(bacteria_amount), \\\n",
    "    'Virus ({0:d})'.format(virus_amount)\n",
    "\n",
    "\n",
    "def sizes(normal_amount, bacteria_amount, virus_amount):\n",
    "    total = normal_amount + bacteria_amount + virus_amount\n",
    "    return [normal_amount / total, bacteria_amount / total, virus_amount / total]\n",
    "\n",
    "\n",
    "fig1, ax1 = plt.subplots()\n",
    "ax1.pie(sizes(normal_df.shape[0], bacteria_df.shape[0], virus_df.shape[0]),\n",
    "        explode = (0.1, 0, 0), labels = labels(normal_df.shape[0], bacteria_df.shape[0], virus_df.shape[0]),\n",
    "        autopct = '%1.1f%%', startangle = 90, colors = colors)\n",
    "ax1.axis('equal')\n",
    "ax1.title.set_text('Data Set')\n",
    "plt.show()"
   ]
  },
  {
   "cell_type": "code",
   "execution_count": 10,
   "metadata": {},
   "outputs": [
    {
     "data": {
      "image/png": "[encoded data removed]",
      "text/plain": [
       "<Figure size 1224x288 with 3 Axes>"
      ]
     },
     "metadata": {},
     "output_type": "display_data"
    }
   ],
   "source": [
    "test_size = 0.2\n",
    "validation_size = 0.02\n",
    "\n",
    "sampler = RandomUnderSampler(random_state = 0)\n",
    "X_balanced, _ = sampler.fit_resample(dataset[['path']].values, dataset[['target']].values)\n",
    "\n",
    "balanced_dataset = pd.DataFrame({'path': X_balanced[:, 0]})\n",
    "balanced_dataset = balanced_dataset.sample(frac = 1, random_state = 0).reset_index(drop = True)\n",
    "balanced_dataset = pd.merge(balanced_dataset, dataset, on = 'path')\n",
    "rest_dataset = pd.DataFrame(\n",
    "    {'path': list(set(X_balanced[:, 0].tolist()).symmetric_difference(dataset[['path']].values[:, 0].tolist()))})\n",
    "rest_dataset = rest_dataset.sample(frac = 1, random_state = 0).reset_index(drop = True)\n",
    "rest_dataset = pd.merge(rest_dataset, dataset, on = 'path')\n",
    "\n",
    "X_train_validation, X_test, y_train_validation, _ = train_test_split(\n",
    "    balanced_dataset.path.values, balanced_dataset.target.values,\n",
    "    test_size = test_size, random_state = 0)\n",
    "X_train, X_validation, _, _ = train_test_split(\n",
    "    X_train_validation, y_train_validation,\n",
    "    test_size = validation_size, random_state = 3)\n",
    "\n",
    "train_dataset = pd.merge(pd.DataFrame({'path': X_train}), dataset, on = 'path')\n",
    "validation_dataset = pd.merge(pd.DataFrame({'path': X_validation}), dataset, on = 'path')\n",
    "test_dataset = pd.concat([pd.merge(pd.DataFrame({'path': X_test}), dataset, on = 'path'), rest_dataset])\n",
    "\n",
    "fig = plt.figure(figsize = (17, 4))\n",
    "ax1 = fig.add_subplot(131)\n",
    "ax1.pie(sizes(train_dataset.sum()[1], train_dataset.sum()[2], train_dataset.sum()[3]),\n",
    "        explode = (0.1, 0, 0), labels = labels(train_dataset.sum()[1], train_dataset.sum()[2], train_dataset.sum()[3]),\n",
    "        autopct = '%1.1f%%', startangle = 90, colors = colors)\n",
    "ax1.axis('equal')\n",
    "ax1.title.set_text('Train Set')\n",
    "\n",
    "ax3 = fig.add_subplot(132)\n",
    "ax3.pie(sizes(validation_dataset.sum()[1], validation_dataset.sum()[2], validation_dataset.sum()[3]),\n",
    "        explode = (0.1, 0, 0),\n",
    "        labels = labels(validation_dataset.sum()[1], validation_dataset.sum()[2], validation_dataset.sum()[3]),\n",
    "        autopct = '%1.1f%%', startangle = 90, colors = colors)\n",
    "ax3.axis('equal')\n",
    "ax3.title.set_text('Validation Set')\n",
    "\n",
    "ax2 = fig.add_subplot(133)\n",
    "ax2.pie(sizes(test_dataset.sum()[1], test_dataset.sum()[2], test_dataset.sum()[3]),\n",
    "        explode = (0.1, 0, 0), labels = labels(test_dataset.sum()[1], test_dataset.sum()[2], test_dataset.sum()[3]),\n",
    "        autopct = '%1.1f%%', startangle = 90, colors = colors)\n",
    "ax2.axis('equal')\n",
    "ax2.title.set_text('Test Set')\n",
    "\n",
    "plt.show()"
   ]
  },
  {
   "cell_type": "code",
   "execution_count": 11,
   "metadata": {},
   "outputs": [
    {
     "name": "stdout",
     "output_type": "stream",
     "text": [
      "Train generator:\n",
      "Found 2481 validated image filenames belonging to 2 classes.\n",
      "\n",
      "Validation generator:\n",
      "Found 51 validated image filenames belonging to 2 classes.\n",
      "\n",
      "Test generator:\n",
      "Found 3324 validated image filenames belonging to 2 classes.\n"
     ]
    }
   ],
   "source": [
    "imageGenerator = ImageDataGenerator(rescale = 1. / 255, horizontal_flip = True)\n",
    "testGenerator = ImageDataGenerator(rescale = 1. / 255)\n",
    "\n",
    "batch_size = 4\n",
    "x_col = 'path'\n",
    "y_col = 'target'\n",
    "classes = ['Normal', 'Pneumonia']\n",
    "mode = 'grayscale'\n",
    "target_size = (150, 150)\n",
    "\n",
    "print('Train generator:')\n",
    "train_generator = imageGenerator.flow_from_dataframe(train_dataset, x_col = x_col, y_col = y_col,\n",
    "                                                     seed = 0, target_size = target_size, batch_size = batch_size,\n",
    "                                                     class_mode = 'binary', color_mode = mode)\n",
    "\n",
    "print('\\nValidation generator:')\n",
    "validation_generator = testGenerator.flow_from_dataframe(validation_dataset, x_col = x_col, y_col = y_col,\n",
    "                                                         seed = 0, target_size = target_size, batch_size = batch_size,\n",
    "                                                         class_mode = 'binary', color_mode = mode, shuffle = False)\n",
    "\n",
    "print('\\nTest generator:')\n",
    "test_generator = testGenerator.flow_from_dataframe(test_dataset, x_col = x_col, y_col = y_col,\n",
    "                                                   seed = 0, target_size = target_size, batch_size = 1,\n",
    "                                                   class_mode = 'binary', color_mode = mode, shuffle = False)"
   ]
  },
  {
   "cell_type": "code",
   "execution_count": 12,
   "metadata": {},
   "outputs": [
    {
     "name": "stdout",
     "output_type": "stream",
     "text": [
      "WARNING:tensorflow:From /Users/zhuvikin/anaconda3/envs/AIU_ML/lib/python3.7/site-packages/keras/backend/tensorflow_backend.py:3445: calling dropout (from tensorflow.python.ops.nn_ops) with keep_prob is deprecated and will be removed in a future version.\n",
      "Instructions for updating:\n",
      "Please use `rate` instead of `keep_prob`. Rate should be set to `rate = 1 - keep_prob`.\n",
      "_________________________________________________________________\n",
      "Layer (type)                 Output Shape              Param #   \n",
      "=================================================================\n",
      "conv2d_1 (Conv2D)            (None, 148, 148, 32)      320       \n",
      "_________________________________________________________________\n",
      "max_pooling2d_1 (MaxPooling2 (None, 74, 74, 32)        0         \n",
      "_________________________________________________________________\n",
      "batch_normalization_1 (Batch (None, 74, 74, 32)        128       \n",
      "_________________________________________________________________\n",
      "dropout_1 (Dropout)          (None, 74, 74, 32)        0         \n",
      "_________________________________________________________________\n",
      "conv2d_2 (Conv2D)            (None, 72, 72, 64)        18496     \n",
      "_________________________________________________________________\n",
      "max_pooling2d_2 (MaxPooling2 (None, 36, 36, 64)        0         \n",
      "_________________________________________________________________\n",
      "batch_normalization_2 (Batch (None, 36, 36, 64)        256       \n",
      "_________________________________________________________________\n",
      "dropout_2 (Dropout)          (None, 36, 36, 64)        0         \n",
      "_________________________________________________________________\n",
      "conv2d_3 (Conv2D)            (None, 34, 34, 128)       73856     \n",
      "_________________________________________________________________\n",
      "max_pooling2d_3 (MaxPooling2 (None, 17, 17, 128)       0         \n",
      "_________________________________________________________________\n",
      "batch_normalization_3 (Batch (None, 17, 17, 128)       512       \n",
      "_________________________________________________________________\n",
      "dropout_3 (Dropout)          (None, 17, 17, 128)       0         \n",
      "_________________________________________________________________\n",
      "conv2d_4 (Conv2D)            (None, 15, 15, 128)       147584    \n",
      "_________________________________________________________________\n",
      "max_pooling2d_4 (MaxPooling2 (None, 7, 7, 128)         0         \n",
      "_________________________________________________________________\n",
      "flatten_1 (Flatten)          (None, 6272)              0         \n",
      "_________________________________________________________________\n",
      "dense_1 (Dense)              (None, 64)                401472    \n",
      "_________________________________________________________________\n",
      "dropout_4 (Dropout)          (None, 64)                0         \n",
      "_________________________________________________________________\n",
      "dense_2 (Dense)              (None, 1)                 65        \n",
      "=================================================================\n",
      "Total params: 642,689\n",
      "Trainable params: 642,241\n",
      "Non-trainable params: 448\n",
      "_________________________________________________________________\n"
     ]
    }
   ],
   "source": [
    "model = Sequential()\n",
    "model.add(Conv2D(32, (3, 3), activation = 'relu', input_shape = train_generator.image_shape))\n",
    "model.add(MaxPooling2D((2, 2)))\n",
    "model.add(BatchNormalization())\n",
    "model.add(Dropout(rate = 0.15))\n",
    "model.add(Conv2D(64, (3, 3), activation = 'relu'))\n",
    "model.add(MaxPooling2D((2, 2)))\n",
    "model.add(BatchNormalization())\n",
    "model.add(Dropout(rate = 0.15))\n",
    "model.add(Conv2D(128, (3, 3), activation = 'relu'))\n",
    "model.add(MaxPooling2D((2, 2)))\n",
    "model.add(BatchNormalization())\n",
    "model.add(Dropout(rate = 0.15))\n",
    "model.add(Conv2D(128, (3, 3), activation = 'relu'))\n",
    "model.add(MaxPooling2D((2, 2)))\n",
    "model.add(Flatten())\n",
    "model.add(Dense(64, activation = 'relu'))\n",
    "model.add(Dropout(0.15))\n",
    "model.add(Dense(1, activation = 'sigmoid'))\n",
    "model.summary()"
   ]
  },
  {
   "cell_type": "code",
   "execution_count": 13,
   "metadata": {},
   "outputs": [],
   "source": [
    "def precision(y_true, y_pred):\n",
    "    true_positives = K.sum(K.round(K.clip(y_true * y_pred, 0, 1)))\n",
    "    predicted_positives = K.sum(K.round(K.clip(y_pred, 0, 1)))\n",
    "    precision = true_positives / (predicted_positives + K.epsilon())\n",
    "    return precision\n",
    "\n",
    "\n",
    "def recall(y_true, y_pred):\n",
    "    true_positives = K.sum(K.round(K.clip(y_true * y_pred, 0, 1)))\n",
    "    possible_positives = K.sum(K.round(K.clip(y_true, 0, 1)))\n",
    "    recall = true_positives / (possible_positives + K.epsilon())\n",
    "    return recall\n",
    "\n",
    "model_check_point = ModelCheckpoint(best_binary_model_path, save_best_only = True,\n",
    "                                    monitor = 'val_loss', mode = 'min')"
   ]
  },
  {
   "cell_type": "code",
   "execution_count": 14,
   "metadata": {
    "scrolled": false
   },
   "outputs": [
    {
     "name": "stdout",
     "output_type": "stream",
     "text": [
      "Epoch 1/50\n",
      "100/100 [==============================] - 21s 206ms/step - loss: 7.5852 - acc: 0.5175 - recall: 0.9200 - precision: 0.5150 - val_loss: 7.8219 - val_acc: 0.5094 - val_recall: 0.8639 - val_precision: 0.5094\n",
      "Epoch 2/50\n",
      "100/100 [==============================] - 24s 241ms/step - loss: 7.8516 - acc: 0.5075 - recall: 0.9800 - precision: 0.5075 - val_loss: 7.8317 - val_acc: 0.5088 - val_recall: 0.8600 - val_precision: 0.5088\n",
      "Epoch 3/50\n",
      "100/100 [==============================] - 27s 274ms/step - loss: 7.5328 - acc: 0.5275 - recall: 0.9600 - precision: 0.5275 - val_loss: 7.7719 - val_acc: 0.5125 - val_recall: 0.8650 - val_precision: 0.5125\n",
      "Epoch 4/50\n",
      "100/100 [==============================] - 24s 241ms/step - loss: 8.5292 - acc: 0.4650 - recall: 0.9400 - precision: 0.4650 - val_loss: 7.8219 - val_acc: 0.5094 - val_recall: 0.8639 - val_precision: 0.5094\n",
      "Epoch 5/50\n",
      "100/100 [==============================] - 21s 213ms/step - loss: 8.3698 - acc: 0.4750 - recall: 0.9100 - precision: 0.4750 - val_loss: 7.8516 - val_acc: 0.5075 - val_recall: 0.8600 - val_precision: 0.5075\n",
      "Epoch 6/50\n",
      "100/100 [==============================] - 21s 209ms/step - loss: 7.5328 - acc: 0.5275 - recall: 0.9600 - precision: 0.5275 - val_loss: 7.7918 - val_acc: 0.5112 - val_recall: 0.8650 - val_precision: 0.5112\n",
      "Epoch 7/50\n",
      "100/100 [==============================] - 21s 208ms/step - loss: 7.7314 - acc: 0.5150 - recall: 0.9701 - precision: 0.5150 - val_loss: 7.7821 - val_acc: 0.5119 - val_recall: 0.8639 - val_precision: 0.5119\n",
      "Epoch 8/50\n",
      "100/100 [==============================] - 23s 229ms/step - loss: 7.6125 - acc: 0.5225 - recall: 0.9100 - precision: 0.5225 - val_loss: 7.8516 - val_acc: 0.5075 - val_recall: 0.8600 - val_precision: 0.5075\n",
      "Epoch 9/50\n",
      "100/100 [==============================] - 23s 225ms/step - loss: 8.4893 - acc: 0.4675 - recall: 0.8700 - precision: 0.4675 - val_loss: 7.7918 - val_acc: 0.5112 - val_recall: 0.8650 - val_precision: 0.5112\n",
      "Epoch 10/50\n",
      "100/100 [==============================] - 20s 202ms/step - loss: 7.3734 - acc: 0.5375 - recall: 0.9600 - precision: 0.5375 - val_loss: 7.8020 - val_acc: 0.5106 - val_recall: 0.8639 - val_precision: 0.5106\n",
      "Epoch 11/50\n",
      "100/100 [==============================] - 20s 197ms/step - loss: 8.5292 - acc: 0.4650 - recall: 0.9500 - precision: 0.4650 - val_loss: 7.8516 - val_acc: 0.5075 - val_recall: 0.8600 - val_precision: 0.5075\n",
      "Epoch 12/50\n",
      "100/100 [==============================] - 20s 197ms/step - loss: 8.0110 - acc: 0.4975 - recall: 0.9200 - precision: 0.4975 - val_loss: 7.7918 - val_acc: 0.5112 - val_recall: 0.8650 - val_precision: 0.5112\n",
      "Epoch 13/50\n",
      "100/100 [==============================] - 19s 194ms/step - loss: 7.1348 - acc: 0.5525 - recall: 0.9600 - precision: 0.5525 - val_loss: 7.8317 - val_acc: 0.5088 - val_recall: 0.8600 - val_precision: 0.5088\n",
      "Epoch 14/50\n",
      "100/100 [==============================] - 21s 209ms/step - loss: 8.2502 - acc: 0.4825 - recall: 0.9100 - precision: 0.4825 - val_loss: 7.8219 - val_acc: 0.5094 - val_recall: 0.8639 - val_precision: 0.5094\n",
      "Epoch 15/50\n",
      "100/100 [==============================] - 21s 211ms/step - loss: 8.2502 - acc: 0.4825 - recall: 0.9200 - precision: 0.4825 - val_loss: 7.8317 - val_acc: 0.5088 - val_recall: 0.8600 - val_precision: 0.5088\n",
      "Epoch 16/50\n",
      "100/100 [==============================] - 22s 217ms/step - loss: 7.9313 - acc: 0.5025 - recall: 0.9400 - precision: 0.5025 - val_loss: 7.7719 - val_acc: 0.5125 - val_recall: 0.8650 - val_precision: 0.5125\n",
      "Epoch 17/50\n",
      " 84/100 [========================>.....] - ETA: 2s - loss: 7.6391 - acc: 0.5208 - recall: 0.9762 - precision: 0.5208"
     ]
    },
    {
     "ename": "KeyboardInterrupt",
     "evalue": "",
     "output_type": "error",
     "traceback": [
      "\u001b[0;31m---------------------------------------------------------------------------\u001b[0m",
      "\u001b[0;31mKeyboardInterrupt\u001b[0m                         Traceback (most recent call last)",
      "\u001b[0;32m<ipython-input-14-33b83b865da8>\u001b[0m in \u001b[0;36m<module>\u001b[0;34m\u001b[0m\n\u001b[1;32m      7\u001b[0m                               \u001b[0msteps_per_epoch\u001b[0m \u001b[0;34m=\u001b[0m \u001b[0;36m100\u001b[0m\u001b[0;34m,\u001b[0m \u001b[0mgenerator\u001b[0m \u001b[0;34m=\u001b[0m \u001b[0mtrain_generator\u001b[0m\u001b[0;34m,\u001b[0m\u001b[0;34m\u001b[0m\u001b[0;34m\u001b[0m\u001b[0m\n\u001b[1;32m      8\u001b[0m                               \u001b[0mvalidation_steps\u001b[0m \u001b[0;34m=\u001b[0m \u001b[0mvalidation_dataset\u001b[0m\u001b[0;34m.\u001b[0m\u001b[0mshape\u001b[0m\u001b[0;34m[\u001b[0m\u001b[0;36m0\u001b[0m\u001b[0;34m]\u001b[0m \u001b[0;34m*\u001b[0m \u001b[0mbatch_size\u001b[0m\u001b[0;34m,\u001b[0m\u001b[0;34m\u001b[0m\u001b[0;34m\u001b[0m\u001b[0m\n\u001b[0;32m----> 9\u001b[0;31m                               verbose = 1, callbacks=[model_check_point])\n\u001b[0m",
      "\u001b[0;32m~/anaconda3/envs/AIU_ML/lib/python3.7/site-packages/keras/legacy/interfaces.py\u001b[0m in \u001b[0;36mwrapper\u001b[0;34m(*args, **kwargs)\u001b[0m\n\u001b[1;32m     89\u001b[0m                 warnings.warn('Update your `' + object_name + '` call to the ' +\n\u001b[1;32m     90\u001b[0m                               'Keras 2 API: ' + signature, stacklevel=2)\n\u001b[0;32m---> 91\u001b[0;31m             \u001b[0;32mreturn\u001b[0m \u001b[0mfunc\u001b[0m\u001b[0;34m(\u001b[0m\u001b[0;34m*\u001b[0m\u001b[0margs\u001b[0m\u001b[0;34m,\u001b[0m \u001b[0;34m**\u001b[0m\u001b[0mkwargs\u001b[0m\u001b[0;34m)\u001b[0m\u001b[0;34m\u001b[0m\u001b[0;34m\u001b[0m\u001b[0m\n\u001b[0m\u001b[1;32m     92\u001b[0m         \u001b[0mwrapper\u001b[0m\u001b[0;34m.\u001b[0m\u001b[0m_original_function\u001b[0m \u001b[0;34m=\u001b[0m \u001b[0mfunc\u001b[0m\u001b[0;34m\u001b[0m\u001b[0;34m\u001b[0m\u001b[0m\n\u001b[1;32m     93\u001b[0m         \u001b[0;32mreturn\u001b[0m \u001b[0mwrapper\u001b[0m\u001b[0;34m\u001b[0m\u001b[0;34m\u001b[0m\u001b[0m\n",
      "\u001b[0;32m~/anaconda3/envs/AIU_ML/lib/python3.7/site-packages/keras/engine/training.py\u001b[0m in \u001b[0;36mfit_generator\u001b[0;34m(self, generator, steps_per_epoch, epochs, verbose, callbacks, validation_data, validation_steps, class_weight, max_queue_size, workers, use_multiprocessing, shuffle, initial_epoch)\u001b[0m\n\u001b[1;32m   1416\u001b[0m             \u001b[0muse_multiprocessing\u001b[0m\u001b[0;34m=\u001b[0m\u001b[0muse_multiprocessing\u001b[0m\u001b[0;34m,\u001b[0m\u001b[0;34m\u001b[0m\u001b[0;34m\u001b[0m\u001b[0m\n\u001b[1;32m   1417\u001b[0m             \u001b[0mshuffle\u001b[0m\u001b[0;34m=\u001b[0m\u001b[0mshuffle\u001b[0m\u001b[0;34m,\u001b[0m\u001b[0;34m\u001b[0m\u001b[0;34m\u001b[0m\u001b[0m\n\u001b[0;32m-> 1418\u001b[0;31m             initial_epoch=initial_epoch)\n\u001b[0m\u001b[1;32m   1419\u001b[0m \u001b[0;34m\u001b[0m\u001b[0m\n\u001b[1;32m   1420\u001b[0m     \u001b[0;34m@\u001b[0m\u001b[0minterfaces\u001b[0m\u001b[0;34m.\u001b[0m\u001b[0mlegacy_generator_methods_support\u001b[0m\u001b[0;34m\u001b[0m\u001b[0;34m\u001b[0m\u001b[0m\n",
      "\u001b[0;32m~/anaconda3/envs/AIU_ML/lib/python3.7/site-packages/keras/engine/training_generator.py\u001b[0m in \u001b[0;36mfit_generator\u001b[0;34m(model, generator, steps_per_epoch, epochs, verbose, callbacks, validation_data, validation_steps, class_weight, max_queue_size, workers, use_multiprocessing, shuffle, initial_epoch)\u001b[0m\n\u001b[1;32m    215\u001b[0m                 outs = model.train_on_batch(x, y,\n\u001b[1;32m    216\u001b[0m                                             \u001b[0msample_weight\u001b[0m\u001b[0;34m=\u001b[0m\u001b[0msample_weight\u001b[0m\u001b[0;34m,\u001b[0m\u001b[0;34m\u001b[0m\u001b[0;34m\u001b[0m\u001b[0m\n\u001b[0;32m--> 217\u001b[0;31m                                             class_weight=class_weight)\n\u001b[0m\u001b[1;32m    218\u001b[0m \u001b[0;34m\u001b[0m\u001b[0m\n\u001b[1;32m    219\u001b[0m                 \u001b[0mouts\u001b[0m \u001b[0;34m=\u001b[0m \u001b[0mto_list\u001b[0m\u001b[0;34m(\u001b[0m\u001b[0mouts\u001b[0m\u001b[0;34m)\u001b[0m\u001b[0;34m\u001b[0m\u001b[0;34m\u001b[0m\u001b[0m\n",
      "\u001b[0;32m~/anaconda3/envs/AIU_ML/lib/python3.7/site-packages/keras/engine/training.py\u001b[0m in \u001b[0;36mtrain_on_batch\u001b[0;34m(self, x, y, sample_weight, class_weight)\u001b[0m\n\u001b[1;32m   1215\u001b[0m             \u001b[0mins\u001b[0m \u001b[0;34m=\u001b[0m \u001b[0mx\u001b[0m \u001b[0;34m+\u001b[0m \u001b[0my\u001b[0m \u001b[0;34m+\u001b[0m \u001b[0msample_weights\u001b[0m\u001b[0;34m\u001b[0m\u001b[0;34m\u001b[0m\u001b[0m\n\u001b[1;32m   1216\u001b[0m         \u001b[0mself\u001b[0m\u001b[0;34m.\u001b[0m\u001b[0m_make_train_function\u001b[0m\u001b[0;34m(\u001b[0m\u001b[0;34m)\u001b[0m\u001b[0;34m\u001b[0m\u001b[0;34m\u001b[0m\u001b[0m\n\u001b[0;32m-> 1217\u001b[0;31m         \u001b[0moutputs\u001b[0m \u001b[0;34m=\u001b[0m \u001b[0mself\u001b[0m\u001b[0;34m.\u001b[0m\u001b[0mtrain_function\u001b[0m\u001b[0;34m(\u001b[0m\u001b[0mins\u001b[0m\u001b[0;34m)\u001b[0m\u001b[0;34m\u001b[0m\u001b[0;34m\u001b[0m\u001b[0m\n\u001b[0m\u001b[1;32m   1218\u001b[0m         \u001b[0;32mreturn\u001b[0m \u001b[0munpack_singleton\u001b[0m\u001b[0;34m(\u001b[0m\u001b[0moutputs\u001b[0m\u001b[0;34m)\u001b[0m\u001b[0;34m\u001b[0m\u001b[0;34m\u001b[0m\u001b[0m\n\u001b[1;32m   1219\u001b[0m \u001b[0;34m\u001b[0m\u001b[0m\n",
      "\u001b[0;32m~/anaconda3/envs/AIU_ML/lib/python3.7/site-packages/keras/backend/tensorflow_backend.py\u001b[0m in \u001b[0;36m__call__\u001b[0;34m(self, inputs)\u001b[0m\n\u001b[1;32m   2713\u001b[0m                 \u001b[0;32mreturn\u001b[0m \u001b[0mself\u001b[0m\u001b[0;34m.\u001b[0m\u001b[0m_legacy_call\u001b[0m\u001b[0;34m(\u001b[0m\u001b[0minputs\u001b[0m\u001b[0;34m)\u001b[0m\u001b[0;34m\u001b[0m\u001b[0;34m\u001b[0m\u001b[0m\n\u001b[1;32m   2714\u001b[0m \u001b[0;34m\u001b[0m\u001b[0m\n\u001b[0;32m-> 2715\u001b[0;31m             \u001b[0;32mreturn\u001b[0m \u001b[0mself\u001b[0m\u001b[0;34m.\u001b[0m\u001b[0m_call\u001b[0m\u001b[0;34m(\u001b[0m\u001b[0minputs\u001b[0m\u001b[0;34m)\u001b[0m\u001b[0;34m\u001b[0m\u001b[0;34m\u001b[0m\u001b[0m\n\u001b[0m\u001b[1;32m   2716\u001b[0m         \u001b[0;32melse\u001b[0m\u001b[0;34m:\u001b[0m\u001b[0;34m\u001b[0m\u001b[0;34m\u001b[0m\u001b[0m\n\u001b[1;32m   2717\u001b[0m             \u001b[0;32mif\u001b[0m \u001b[0mpy_any\u001b[0m\u001b[0;34m(\u001b[0m\u001b[0mis_tensor\u001b[0m\u001b[0;34m(\u001b[0m\u001b[0mx\u001b[0m\u001b[0;34m)\u001b[0m \u001b[0;32mfor\u001b[0m \u001b[0mx\u001b[0m \u001b[0;32min\u001b[0m \u001b[0minputs\u001b[0m\u001b[0;34m)\u001b[0m\u001b[0;34m:\u001b[0m\u001b[0;34m\u001b[0m\u001b[0;34m\u001b[0m\u001b[0m\n",
      "\u001b[0;32m~/anaconda3/envs/AIU_ML/lib/python3.7/site-packages/keras/backend/tensorflow_backend.py\u001b[0m in \u001b[0;36m_call\u001b[0;34m(self, inputs)\u001b[0m\n\u001b[1;32m   2673\u001b[0m             \u001b[0mfetched\u001b[0m \u001b[0;34m=\u001b[0m \u001b[0mself\u001b[0m\u001b[0;34m.\u001b[0m\u001b[0m_callable_fn\u001b[0m\u001b[0;34m(\u001b[0m\u001b[0;34m*\u001b[0m\u001b[0marray_vals\u001b[0m\u001b[0;34m,\u001b[0m \u001b[0mrun_metadata\u001b[0m\u001b[0;34m=\u001b[0m\u001b[0mself\u001b[0m\u001b[0;34m.\u001b[0m\u001b[0mrun_metadata\u001b[0m\u001b[0;34m)\u001b[0m\u001b[0;34m\u001b[0m\u001b[0;34m\u001b[0m\u001b[0m\n\u001b[1;32m   2674\u001b[0m         \u001b[0;32melse\u001b[0m\u001b[0;34m:\u001b[0m\u001b[0;34m\u001b[0m\u001b[0;34m\u001b[0m\u001b[0m\n\u001b[0;32m-> 2675\u001b[0;31m             \u001b[0mfetched\u001b[0m \u001b[0;34m=\u001b[0m \u001b[0mself\u001b[0m\u001b[0;34m.\u001b[0m\u001b[0m_callable_fn\u001b[0m\u001b[0;34m(\u001b[0m\u001b[0;34m*\u001b[0m\u001b[0marray_vals\u001b[0m\u001b[0;34m)\u001b[0m\u001b[0;34m\u001b[0m\u001b[0;34m\u001b[0m\u001b[0m\n\u001b[0m\u001b[1;32m   2676\u001b[0m         \u001b[0;32mreturn\u001b[0m \u001b[0mfetched\u001b[0m\u001b[0;34m[\u001b[0m\u001b[0;34m:\u001b[0m\u001b[0mlen\u001b[0m\u001b[0;34m(\u001b[0m\u001b[0mself\u001b[0m\u001b[0;34m.\u001b[0m\u001b[0moutputs\u001b[0m\u001b[0;34m)\u001b[0m\u001b[0;34m]\u001b[0m\u001b[0;34m\u001b[0m\u001b[0;34m\u001b[0m\u001b[0m\n\u001b[1;32m   2677\u001b[0m \u001b[0;34m\u001b[0m\u001b[0m\n",
      "\u001b[0;32m~/anaconda3/envs/AIU_ML/lib/python3.7/site-packages/tensorflow/python/client/session.py\u001b[0m in \u001b[0;36m__call__\u001b[0;34m(self, *args, **kwargs)\u001b[0m\n\u001b[1;32m   1437\u001b[0m           ret = tf_session.TF_SessionRunCallable(\n\u001b[1;32m   1438\u001b[0m               \u001b[0mself\u001b[0m\u001b[0;34m.\u001b[0m\u001b[0m_session\u001b[0m\u001b[0;34m.\u001b[0m\u001b[0m_session\u001b[0m\u001b[0;34m,\u001b[0m \u001b[0mself\u001b[0m\u001b[0;34m.\u001b[0m\u001b[0m_handle\u001b[0m\u001b[0;34m,\u001b[0m \u001b[0margs\u001b[0m\u001b[0;34m,\u001b[0m \u001b[0mstatus\u001b[0m\u001b[0;34m,\u001b[0m\u001b[0;34m\u001b[0m\u001b[0;34m\u001b[0m\u001b[0m\n\u001b[0;32m-> 1439\u001b[0;31m               run_metadata_ptr)\n\u001b[0m\u001b[1;32m   1440\u001b[0m         \u001b[0;32mif\u001b[0m \u001b[0mrun_metadata\u001b[0m\u001b[0;34m:\u001b[0m\u001b[0;34m\u001b[0m\u001b[0;34m\u001b[0m\u001b[0m\n\u001b[1;32m   1441\u001b[0m           \u001b[0mproto_data\u001b[0m \u001b[0;34m=\u001b[0m \u001b[0mtf_session\u001b[0m\u001b[0;34m.\u001b[0m\u001b[0mTF_GetBuffer\u001b[0m\u001b[0;34m(\u001b[0m\u001b[0mrun_metadata_ptr\u001b[0m\u001b[0;34m)\u001b[0m\u001b[0;34m\u001b[0m\u001b[0;34m\u001b[0m\u001b[0m\n",
      "\u001b[0;31mKeyboardInterrupt\u001b[0m: "
     ]
    }
   ],
   "source": [
    "model.compile(loss = 'binary_crossentropy', optimizer = 'adam',\n",
    "              metrics = ['accuracy', recall, precision])\n",
    "\n",
    "train_generator.reset()\n",
    "validation_generator.reset()\n",
    "history = model.fit_generator(epochs = 50, shuffle = True, validation_data = validation_generator,\n",
    "                              steps_per_epoch = 100, generator = train_generator,\n",
    "                              validation_steps = validation_dataset.shape[0] * batch_size,\n",
    "                              verbose = 1, callbacks=[model_check_point])"
   ]
  },
  {
   "cell_type": "code",
   "execution_count": null,
   "metadata": {},
   "outputs": [],
   "source": [
    "metrics = ['loss', 'acc', 'recall', 'precision']\n",
    "\n",
    "fig = plt.figure(figsize=(17, 12))\n",
    "for i, metric in enumerate(metrics):\n",
    "    ax = plt.subplot(2, 2, i + 1)\n",
    "    ax.set_facecolor('w')\n",
    "    ax.grid(b = False)\n",
    "    ax.plot(history.history[metric], color = '#00bf81')\n",
    "    ax.plot(history.history['val_' + metric], color = '#ff0083')\n",
    "    plt.title('model ' + metric)\n",
    "    plt.ylabel(metric)\n",
    "    plt.xlabel('epoch')\n",
    "    plt.legend(['train', 'validation'], loc='upper left')\n",
    "    \n",
    "plt.show()"
   ]
  },
  {
   "cell_type": "code",
   "execution_count": null,
   "metadata": {},
   "outputs": [],
   "source": [
    "test_generator.reset()\n",
    "test_pred = model.predict_generator(test_generator, verbose = 1, steps = test_dataset.shape[0])"
   ]
  },
  {
   "cell_type": "code",
   "execution_count": null,
   "metadata": {},
   "outputs": [],
   "source": [
    "print(classification_report(test_generator.classes, np.rint(test_pred).astype(int).flatten().tolist()))"
   ]
  },
  {
   "cell_type": "code",
   "execution_count": null,
   "metadata": {
    "scrolled": false
   },
   "outputs": [],
   "source": [
    "fig = plt.figure(figsize = (17, 3 * batch_size))\n",
    "rows = 2\n",
    "i = 0\n",
    "for row_i, (a, b) in enumerate(train_generator):\n",
    "    if row_i > rows:\n",
    "        break\n",
    "    for d in a:\n",
    "        img = d[:,:,0]        \n",
    "        ax = plt.subplot(rows + 1, batch_size, i + 1)\n",
    "        ax.imshow(img)\n",
    "        plt.axis('off')\n",
    "        i += 1\n",
    "    \n",
    "plt.show()"
   ]
  }
 ],
 "metadata": {
  "jupytext": {
   "formats": "ipynb,py:light"
  },
  "kernelspec": {
   "display_name": "JKERNEL",
   "language": "python",
   "name": "jkernel"
  },
  "language_info": {
   "codemirror_mode": {
    "name": "ipython",
    "version": 3
   },
   "file_extension": ".py",
   "mimetype": "text/x-python",
   "name": "python",
   "nbconvert_exporter": "python",
   "pygments_lexer": "ipython3",
   "version": "3.7.3"
  }
 },
 "nbformat": 4,
 "nbformat_minor": 2
}
